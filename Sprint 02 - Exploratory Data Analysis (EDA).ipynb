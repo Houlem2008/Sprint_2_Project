{
 "cells": [
  {
   "cell_type": "markdown",
   "id": "ae859a19",
   "metadata": {},
   "source": [
    "<div style=\"border:solid blue 2px; padding: 20px\">\n",
    "  \n",
    "**Hello Matthew.**\n",
    "\n",
    "My name is Yulia, and I will be reviewing your project. \n",
    "\n",
    "You will find my comments in coloured cells marked as 'Reviewer's comment'. The cell colour will vary based on the contents - I am explaining it further below. \n",
    "\n",
    "**Note:** Please do not remove or change my comments - they will help me in my future reviews and will make the process smoother for both of us. \n",
    "\n",
    "<div class=\"alert alert-success\"; style=\"border-left: 7px solid green\">\n",
    "<b>✅ Reviewer's comment</b> \n",
    "    \n",
    "Such comment will mark efficient solutions and good ideas that can be used in other projects.\n",
    "</div>\n",
    "\n",
    "<div class=\"alert alert-warning\"; style=\"border-left: 7px solid gold\">\n",
    "<b>⚠️ Reviewer's comment</b> \n",
    "    \n",
    "The parts marked with yellow comments indicate that there is room for optimisation. Though the correction is not necessary it is good if you implement it.\n",
    "</div>\n",
    "\n",
    "<div class=\"alert alert-danger\"; style=\"border-left: 7px solid red\">\n",
    "<b>⛔️ Reviewer's comment</b> \n",
    "    \n",
    "If you see such a comment, it means that there is a problem that needs to be fixed. Please note that I won't be able to accept your project until the issue is resolved.\n",
    "</div>\n",
    "\n",
    "You are also very welcome to leave your comments / describe the corrections you've done / ask me questions, marking them with a different colour. You can you the example below: \n",
    "\n",
    "<div class=\"alert alert-info\"; style=\"border-left: 7px solid blue\">\n",
    "<b>Student's comment</b>"
   ]
  },
  {
   "cell_type": "markdown",
   "id": "d8d576a9",
   "metadata": {},
   "source": [
    "<div style=\"border:solid green 2px; padding: 20px\">\n",
    "    \n",
    "<div class=\"alert alert-success\">\n",
    "<b>Review summary</b> \n",
    "    \n",
    "Hello Matthew. \n",
    "    \n",
    "Thanks for prompt update of the project. You've taken into account all the comments - both red and yellow, which I'm very grateful for and hope it was useful for you. \n",
    "    \n",
    "Your project is now complete, congratulations. \n",
    "    \n",
    "I left you the comments from this review marked as _v. 2_.\n",
    "    \n",
    "Thanks again for your hard work on the project and readiness to improve it to get the best result. It was a pleasure for me to work with you on it.\n",
    "    \n",
    "Wish you good luck with your further studies."
   ]
  },
  {
   "cell_type": "markdown",
   "id": "5dc8e3d3",
   "metadata": {},
   "source": [
    "<div style=\"border:solid green 2px; padding: 20px\">\n",
    "    \n",
    "<div class=\"alert alert-success\">\n",
    "<b>Review summary</b> \n",
    "    \n",
    "Matthew, thanks for submitting the project. You've done an impressive job, showing strong coding and analytical skills.\n",
    "    \n",
    "    \n",
    "<div class=\"alert alert-danger\">  \n",
    "    \n",
    "There are several critical comments that need to be corrected. I left detailed instructions in the red-coloured cells in relevant sections. Please follow them to make corrections. \n",
    "    \n",
    "</div>\n",
    "\n",
    "You can also work on the yellow comments. \n",
    "    \n",
    "If you have any questions please write them when you return your project. \n",
    "    \n",
    "I'll be looking forward to getting your updated notebook."
   ]
  },
  {
   "cell_type": "markdown",
   "id": "ee58b8af",
   "metadata": {},
   "source": [
    "<div class=\"alert alert-warning\"; style=\"border-left: 7px solid gold\">\n",
    "<b>⚠️ Reviewer's comment, v. 1</b> \n",
    "\n",
    "\n",
    "\n",
    "The project should start with a title, which should be followed by introduction.\n",
    "    \n",
    "Introduction is an important part of the project. \n",
    "    \n",
    "It is optimal if introduction consists of:\n",
    "    \n",
    "- brief description of the situation;\n",
    "- goal of the project;\n",
    "- description of the data we are going to use.\n",
    "    \n",
    "    \n",
    "I would suggesting adding them to the project and please make sure you do not forget to include them in your further projects. \n",
    "</div>\n"
   ]
  },
  {
   "cell_type": "markdown",
   "id": "9a373858",
   "metadata": {},
   "source": [
    "# Instacart Sales and Trends"
   ]
  },
  {
   "cell_type": "markdown",
   "id": "3146c85c",
   "metadata": {},
   "source": [
    "Using a sample of data released by Instacart in 2017 for a Kaggle competition, we will be cleaning the imported data tables and analysing them to determine various trends in products purchased and how commonly customers return an use the service.\n",
    "\n",
    "We will be utilizing five different tables for this analysis. The first is a registry of user and order IDs that contains the day of the week and hours of the day orders were placed, along with how long it had been since the last order if their was one for that user. The second table is a registry of the products sold, including their names, their IDs, and their associated aisles and departments. The third and fourth tables are registries to identify aisle and departments IDs with matching names, respectively. And the fifth and final table is a directory of the orders placed with the product_IDs, order the items were added to the shopping cart, and if the item was a reorder or not."
   ]
  },
  {
   "cell_type": "markdown",
   "id": "1524760a",
   "metadata": {},
   "source": [
    "<div class=\"alert alert-info\"; style=\"border-left: 7px solid blue\">\n",
    "<b>Student's comment, v. 1</b>\n",
    "<div>Added a title and descrition. It's quite basic, but at the very least, it's better than having nothing. In future projects I'll be sure to keep up with this practice and hopefully improve with time and repetition.\n",
    "    \n",
    "<div class=\"alert alert-success\"; style=\"border-left: 7px solid green\">\n",
    "<b>✅ Reviewer's comment, v. 2</b> \n",
    "    \n",
    "👌🏼</div>"
   ]
  },
  {
   "cell_type": "markdown",
   "id": "1cfd50db",
   "metadata": {},
   "source": []
  },
  {
   "cell_type": "code",
   "execution_count": 1,
   "id": "fbf1adab",
   "metadata": {},
   "outputs": [],
   "source": [
    "#importing libraries\n",
    "import pandas as pd #importing the pandas library\n",
    "from matplotlib import pyplot as plt #importing Matplotlib's pyplot library\n",
    "import numpy as np #importing the numpy library"
   ]
  },
  {
   "cell_type": "code",
   "execution_count": 2,
   "id": "ad36396d",
   "metadata": {},
   "outputs": [
    {
     "name": "stdout",
     "output_type": "stream",
     "text": [
      "<class 'pandas.core.frame.DataFrame'>\n",
      "RangeIndex: 478967 entries, 0 to 478966\n",
      "Data columns (total 6 columns):\n",
      " #   Column                  Non-Null Count   Dtype  \n",
      "---  ------                  --------------   -----  \n",
      " 0   order_id                478967 non-null  int64  \n",
      " 1   user_id                 478967 non-null  int64  \n",
      " 2   order_number            478967 non-null  int64  \n",
      " 3   order_dow               478967 non-null  int64  \n",
      " 4   order_hour_of_day       478967 non-null  int64  \n",
      " 5   days_since_prior_order  450148 non-null  float64\n",
      "dtypes: float64(1), int64(5)\n",
      "memory usage: 21.9 MB\n"
     ]
    }
   ],
   "source": [
    "#load and save instacart_orders.csv\n",
    "ic_orders_df = pd.read_csv('/datasets/instacart_orders.csv', sep=';')\n",
    "ic_orders_df.info()"
   ]
  },
  {
   "cell_type": "markdown",
   "id": "c17c976f",
   "metadata": {},
   "source": [
    "Loaded in and saved `instacar_orders.csv`. Information about the table has been printed for a cursory overview of the DataFrame.\n",
    "\n",
    "No inherent issues present themselves with the column names - 'order_dow' references the day of the week which the order was placed on, though there isn't information about which day is refered to by which number.\n",
    "\n",
    "There is missing data in the 'days_since_prior_order' column, which may indicate there is information stored about first orders that would be unable to reference non-existant prior orders."
   ]
  },
  {
   "cell_type": "markdown",
   "id": "65e745d8",
   "metadata": {},
   "source": [
    "<div class=\"alert alert-success\"; style=\"border-left: 7px solid green\">\n",
    "<b>✅ Reviewer's comment, v. 1</b> \n",
    "    \n",
    "Very good - you studied the data and described your observations."
   ]
  },
  {
   "cell_type": "markdown",
   "id": "0a331254",
   "metadata": {},
   "source": [
    "<div class=\"alert alert-warning\"; style=\"border-left: 7px solid gold\">\n",
    "<b>⚠️ Reviewer's comment, v. 1</b> \n",
    "\n",
    "When taking a first look at the data it is also common to display several rows with `head()`, `tail()` or `sample()` method."
   ]
  },
  {
   "cell_type": "code",
   "execution_count": 3,
   "id": "ad6a1efa",
   "metadata": {},
   "outputs": [
    {
     "name": "stdout",
     "output_type": "stream",
     "text": [
      "<class 'pandas.core.frame.DataFrame'>\n",
      "RangeIndex: 49694 entries, 0 to 49693\n",
      "Data columns (total 4 columns):\n",
      " #   Column         Non-Null Count  Dtype \n",
      "---  ------         --------------  ----- \n",
      " 0   product_id     49694 non-null  int64 \n",
      " 1   product_name   48436 non-null  object\n",
      " 2   aisle_id       49694 non-null  int64 \n",
      " 3   department_id  49694 non-null  int64 \n",
      "dtypes: int64(3), object(1)\n",
      "memory usage: 1.5+ MB\n"
     ]
    }
   ],
   "source": [
    "#load and save products.csv\n",
    "products_df = pd.read_csv('/datasets/products.csv', sep=';')\n",
    "products_df.info()"
   ]
  },
  {
   "cell_type": "markdown",
   "id": "b04a9355",
   "metadata": {},
   "source": [
    "Loaded in and saved `products.csv`. Information about the table has been printed for a cursory overview of the DataFrame.\n",
    "\n",
    "No inherent issues with the column names, however IDs as integers could present issues if there are any that are supposed to start with a zero(0), as the integer datatype removes leading 0s.\n",
    "\n",
    "There is missing data in the 'product_name' column which will be seen to in the preprocessing of the DataFrame."
   ]
  },
  {
   "cell_type": "markdown",
   "id": "1382b225",
   "metadata": {},
   "source": [
    "<div class=\"alert alert-success\"; style=\"border-left: 7px solid green\">\n",
    "<b>✅ Reviewer's comment, v. 1</b> \n",
    "    \n",
    "Very good."
   ]
  },
  {
   "cell_type": "code",
   "execution_count": 4,
   "id": "5130e05e",
   "metadata": {},
   "outputs": [
    {
     "name": "stdout",
     "output_type": "stream",
     "text": [
      "<class 'pandas.core.frame.DataFrame'>\n",
      "RangeIndex: 134 entries, 0 to 133\n",
      "Data columns (total 2 columns):\n",
      " #   Column    Non-Null Count  Dtype \n",
      "---  ------    --------------  ----- \n",
      " 0   aisle_id  134 non-null    int64 \n",
      " 1   aisle     134 non-null    object\n",
      "dtypes: int64(1), object(1)\n",
      "memory usage: 2.2+ KB\n"
     ]
    }
   ],
   "source": [
    "#load and save aisles.csv\n",
    "aisles_df = pd.read_csv('/datasets/aisles.csv', sep=';')\n",
    "aisles_df.info()"
   ]
  },
  {
   "cell_type": "markdown",
   "id": "0a5efa8d",
   "metadata": {},
   "source": [
    "Loaded in and saved `aisles.csv`. Information about the table has been printed for a cursory overview of the DataFrame.\n",
    "\n",
    "No inherent issues with column names, though the same issue could be present with IDs with leading 0s being removed as there was in the previous dataframe.\n",
    "\n",
    "There appear to be no missing values, this will be confirmed during preprocessing."
   ]
  },
  {
   "cell_type": "code",
   "execution_count": 5,
   "id": "d8370c05",
   "metadata": {},
   "outputs": [
    {
     "name": "stdout",
     "output_type": "stream",
     "text": [
      "<class 'pandas.core.frame.DataFrame'>\n",
      "RangeIndex: 21 entries, 0 to 20\n",
      "Data columns (total 2 columns):\n",
      " #   Column         Non-Null Count  Dtype \n",
      "---  ------         --------------  ----- \n",
      " 0   department_id  21 non-null     int64 \n",
      " 1   department     21 non-null     object\n",
      "dtypes: int64(1), object(1)\n",
      "memory usage: 464.0+ bytes\n"
     ]
    }
   ],
   "source": [
    "#load and save departments.csv\n",
    "depts_df = pd.read_csv('/datasets/departments.csv', sep=';')\n",
    "depts_df.info()"
   ]
  },
  {
   "cell_type": "markdown",
   "id": "86ecf036",
   "metadata": {},
   "source": [
    "Loaded in and saved `departments.csv`. Information about the table has been printed for a cursory overview of the DataFrame.\n",
    "\n",
    "No inherent issues with column names, though the same issue could be present with IDs with leading 0s being removed as there was in the previous dataframes.\n",
    "\n",
    "There appear to be no missing values, this will be confirmed during preprocessing."
   ]
  },
  {
   "cell_type": "markdown",
   "id": "8c441407",
   "metadata": {},
   "source": [
    "<div class=\"alert alert-success\"; style=\"border-left: 7px solid green\">\n",
    "<b>✅ Reviewer's comment, v. 1</b> \n",
    "    \n",
    "👌🏼"
   ]
  },
  {
   "cell_type": "code",
   "execution_count": 6,
   "id": "59e2090f",
   "metadata": {},
   "outputs": [
    {
     "name": "stdout",
     "output_type": "stream",
     "text": [
      "<class 'pandas.core.frame.DataFrame'>\n",
      "RangeIndex: 4545007 entries, 0 to 4545006\n",
      "Data columns (total 4 columns):\n",
      " #   Column             Non-Null Count    Dtype  \n",
      "---  ------             --------------    -----  \n",
      " 0   order_id           4545007 non-null  int64  \n",
      " 1   product_id         4545007 non-null  int64  \n",
      " 2   add_to_cart_order  4544171 non-null  float64\n",
      " 3   reordered          4545007 non-null  int64  \n",
      "dtypes: float64(1), int64(3)\n",
      "memory usage: 138.7 MB\n"
     ]
    }
   ],
   "source": [
    "#load and save order_products.csv\n",
    "order_products_df = pd.read_csv('/datasets/order_products.csv', sep=';')\n",
    "order_products_df.info(show_counts=True) # show_counts included to provide non-null count"
   ]
  },
  {
   "cell_type": "markdown",
   "id": "ecb522ea",
   "metadata": {},
   "source": [
    "Loaded in and saved `order_products.csv`. Information about the table has been printed for a cursory overview of the DataFrame.\n",
    "\n",
    "No inherent issues with column names, though the same issue could be present with IDs with leading 0s being removed as there was in the previous dataframes.\n",
    "\n",
    "Missing values in add_to_cart_order which will be handled in preprocessing."
   ]
  },
  {
   "cell_type": "markdown",
   "id": "63a534eb",
   "metadata": {},
   "source": [
    "<div class=\"alert alert-success\"; style=\"border-left: 7px solid green\">\n",
    "<b>✅ Reviewer's comment, v. 1</b> \n",
    "    \n",
    "Correct."
   ]
  },
  {
   "cell_type": "markdown",
   "id": "07357848-dc64-4156-9cc3-01ff4365226d",
   "metadata": {},
   "source": [
    "## Find and remove duplicate values (and describe why you make your choices)"
   ]
  },
  {
   "cell_type": "markdown",
   "id": "f179f0a9",
   "metadata": {},
   "source": [
    "### `orders` data frame"
   ]
  },
  {
   "cell_type": "code",
   "execution_count": 7,
   "id": "b99297a5-405a-463d-8535-9adc3da4ad74",
   "metadata": {},
   "outputs": [
    {
     "data": {
      "text/plain": [
       "15"
      ]
     },
     "execution_count": 7,
     "metadata": {},
     "output_type": "execute_result"
    }
   ],
   "source": [
    "# Check for duplicated orders\n",
    "ic_orders_df.duplicated().sum() # Getting a count of the duplicate rows"
   ]
  },
  {
   "cell_type": "markdown",
   "id": "a6dbae19",
   "metadata": {},
   "source": [
    "There are 15 duplicate rows."
   ]
  },
  {
   "cell_type": "code",
   "execution_count": 8,
   "id": "0d44de5d",
   "metadata": {},
   "outputs": [
    {
     "data": {
      "text/plain": [
       "order_id                  121\n",
       "user_id                   121\n",
       "order_number              121\n",
       "order_dow                 121\n",
       "order_hour_of_day         121\n",
       "days_since_prior_order    114\n",
       "dtype: int64"
      ]
     },
     "execution_count": 8,
     "metadata": {},
     "output_type": "execute_result"
    }
   ],
   "source": [
    "# Check for all orders placed Wednesday at 2:00 AM\n",
    "ic_orders_df[(ic_orders_df['order_dow'] == 3) & (ic_orders_df['order_hour_of_day'] == 2)].count() # Filtering ic_orders_df where Wednesday is assumed to be 4"
   ]
  },
  {
   "cell_type": "markdown",
   "id": "3d7651a8",
   "metadata": {},
   "source": [
    "There appear to be 114 orders placed on Wednesdays at 2:00 AM, with the assumption Wednesdays are assigned to the number 4 in the DataFrame, as there isn't specification from the table. 4 of the orders appear to be firt time customers since there are only 110 orders placed that have data relating to prior orders."
   ]
  },
  {
   "cell_type": "markdown",
   "id": "885f4487",
   "metadata": {},
   "source": [
    "<div class=\"alert alert-warning\"; style=\"border-left: 7px solid gold\">\n",
    "<b>⚠️ Reviewer's comment, v. 1</b> \n",
    "\n",
    "You don't have to change it, this is just for your information - I think Wednesday is coded as 3, because if you look at the duplicates that you found in the previous step, you will see that all those orders are made at 2 am on day 3. I believe this is the reason we are checking all the orders made at that time."
   ]
  },
  {
   "cell_type": "markdown",
   "id": "46d7c6e2",
   "metadata": {},
   "source": [
    "<div class=\"alert alert-info\"; style=\"border-left: 7px solid blue\">\n",
    "<b>Student's comment, v. 1</b>\n",
    "<div>Changed it to day 3 just to be accurate with it - probably started counting with Sunday at 1 then missed it when I looked over everything when I submitted the project.\n",
    "    \n",
    "    \n",
    "    \n",
    "<div class=\"alert alert-success\"; style=\"border-left: 7px solid green\">\n",
    "<b>✅ Reviewer's comment, v. 2</b> \n",
    "    \n",
    "OK \n",
    "    </div>"
   ]
  },
  {
   "cell_type": "code",
   "execution_count": 9,
   "id": "480563c7",
   "metadata": {},
   "outputs": [],
   "source": [
    "# Remove duplicate orders\n",
    "ic_orders_df = ic_orders_df.drop_duplicates().reset_index(drop=True) # Removing duplicate rows and resetting the index and not storing the old indices"
   ]
  },
  {
   "cell_type": "code",
   "execution_count": 10,
   "id": "0b2396a2",
   "metadata": {},
   "outputs": [
    {
     "data": {
      "text/plain": [
       "0"
      ]
     },
     "execution_count": 10,
     "metadata": {},
     "output_type": "execute_result"
    }
   ],
   "source": [
    "# Double check for duplicate rows\n",
    "ic_orders_df.duplicated().sum() # Getting a count of the duplicate rows after duplicates have been removed"
   ]
  },
  {
   "cell_type": "markdown",
   "id": "500de455",
   "metadata": {},
   "source": [
    "All duplicate rows have been removed."
   ]
  },
  {
   "cell_type": "code",
   "execution_count": 11,
   "id": "f6113ef1",
   "metadata": {},
   "outputs": [
    {
     "data": {
      "text/plain": [
       "0"
      ]
     },
     "execution_count": 11,
     "metadata": {},
     "output_type": "execute_result"
    }
   ],
   "source": [
    "# Double check for duplicate order IDs only\n",
    "ic_orders_df['order_id'].duplicated().sum() # Getting a count of the duplicate order IDs"
   ]
  },
  {
   "cell_type": "markdown",
   "id": "17a3f929",
   "metadata": {},
   "source": [
    "Being that there are no duplicate order IDs, we have a second confirmation that duplicate orders have been removed."
   ]
  },
  {
   "cell_type": "markdown",
   "id": "5e8905ae",
   "metadata": {},
   "source": [
    "<div class=\"alert alert-success\"; style=\"border-left: 7px solid green\">\n",
    "<b>✅ Reviewer's comment, v. 1</b> \n",
    "    \n",
    "You performed all the steps correctly."
   ]
  },
  {
   "cell_type": "markdown",
   "id": "45e6bc46",
   "metadata": {},
   "source": [
    "### `products` data frame"
   ]
  },
  {
   "cell_type": "code",
   "execution_count": 12,
   "id": "5f526b5b-8175-46fa-a0fd-441767d50e64",
   "metadata": {},
   "outputs": [
    {
     "data": {
      "text/plain": [
       "0"
      ]
     },
     "execution_count": 12,
     "metadata": {},
     "output_type": "execute_result"
    }
   ],
   "source": [
    "# Check for fully duplicate rows\n",
    "products_df.duplicated().sum() # Getting a count of duplicate rows"
   ]
  },
  {
   "cell_type": "markdown",
   "id": "631f097c",
   "metadata": {},
   "source": [
    "There appear to be no duplicate rows."
   ]
  },
  {
   "cell_type": "code",
   "execution_count": 13,
   "id": "88daa4f4",
   "metadata": {},
   "outputs": [
    {
     "data": {
      "text/plain": [
       "0"
      ]
     },
     "execution_count": 13,
     "metadata": {},
     "output_type": "execute_result"
    }
   ],
   "source": [
    "# Check for just duplicate product IDs\n",
    "products_df['product_id'].duplicated().sum() # Getting a count of duplicate product IDs"
   ]
  },
  {
   "cell_type": "markdown",
   "id": "c5a40365",
   "metadata": {},
   "source": [
    "There are no duplicate product IDs."
   ]
  },
  {
   "cell_type": "code",
   "execution_count": 14,
   "id": "c773f0bf",
   "metadata": {},
   "outputs": [],
   "source": [
    "# Check for just duplicate product names (convert names to lowercase to compare better)\n",
    "products_df['product_name'] = products_df['product_name'].str.lower() # Making all the product names lowercase for easier comparison"
   ]
  },
  {
   "cell_type": "code",
   "execution_count": 15,
   "id": "01efd02e",
   "metadata": {},
   "outputs": [
    {
     "data": {
      "text/plain": [
       "green tea with ginseng and honey                                       3\n",
       "matzo ball mix                                                         2\n",
       "fruit cocktail in heavy syrup                                          2\n",
       "vitamin d3 2000 iu                                                     2\n",
       "sea salt caramel ice cream                                             2\n",
       "                                                                      ..\n",
       "lemon verbena dish soap                                                1\n",
       "whole grain baked snack crackers                                       1\n",
       "pain reliever fever reducer extra strength for adults acetaminophen    1\n",
       "boneless beef chuck roast                                              1\n",
       "chipotle lime meat-free crispy fingers                                 1\n",
       "Name: product_name, Length: 48332, dtype: int64"
      ]
     },
     "metadata": {},
     "output_type": "display_data"
    },
    {
     "data": {
      "text/plain": [
       "1361"
      ]
     },
     "metadata": {},
     "output_type": "display_data"
    }
   ],
   "source": [
    "# Check for duplicate product names that aren't missing\n",
    "display(products_df['product_name'].value_counts()) # Applied value_counts() to see a list in decending order of any duplicate product names\n",
    "display(products_df['product_name'].duplicated().sum()) # Getting a count of duplicate product names"
   ]
  },
  {
   "cell_type": "markdown",
   "id": "4176ab00",
   "metadata": {},
   "source": [
    "<div class=\"alert alert-danger\"; style=\"border-left: 7px solid red\">\n",
    "<b>⛔️ Reviewer's comment, v. 1</b> \n",
    "\n",
    "<a class=\"tocSkip\"></a><s>Could you please also check how many duplicates are there?"
   ]
  },
  {
   "cell_type": "markdown",
   "id": "ca84f3cc",
   "metadata": {},
   "source": [
    "<div class=\"alert alert-info\"; style=\"border-left: 7px solid blue\">\n",
    "<b>Student's comment, v. 1</b>\n",
    "<div>I had the number 1361 for duplicate product names on the previous code block to this list. Not sure if you want it after the list, but I shifted it down and revised my conclusion to reflect it.\n",
    "    \n",
    "<div class=\"alert alert-success\"; style=\"border-left: 7px solid green\">\n",
    "<b>✅ Reviewer's comment, v. 2</b> \n",
    "    \n",
    "Yes, I just wanted the sum of duplicates ) Well done.</div>"
   ]
  },
  {
   "cell_type": "markdown",
   "id": "5faadd52",
   "metadata": {},
   "source": [
    "Having converted to lowercase and applied the `value_counts()` method shows that there are repeated/duplicated product names aside from `Null` values. There appear to be 1361 duplicate product names after having made all letters lowercase for easier comparison."
   ]
  },
  {
   "cell_type": "markdown",
   "id": "9da8d293",
   "metadata": {},
   "source": [
    "<div class=\"alert alert-success\"; style=\"border-left: 7px solid green\">\n",
    "<b>✅ Reviewer's comment, v. 1</b> \n",
    "    \n",
    "Very good you do not forget to leave you observations and conclusions."
   ]
  },
  {
   "cell_type": "markdown",
   "id": "60f30db1",
   "metadata": {},
   "source": [
    "### `departments` data frame"
   ]
  },
  {
   "cell_type": "code",
   "execution_count": 16,
   "id": "fb410ad4-0fbf-4b80-bb09-23fdea79afe3",
   "metadata": {},
   "outputs": [
    {
     "data": {
      "text/plain": [
       "0"
      ]
     },
     "execution_count": 16,
     "metadata": {},
     "output_type": "execute_result"
    }
   ],
   "source": [
    "depts_df.duplicated().sum() # Getting a count of the duplicate rows"
   ]
  },
  {
   "cell_type": "markdown",
   "id": "a17f46b2",
   "metadata": {},
   "source": [
    "There appear to be no duplicate rows in the departments directory DataFrame."
   ]
  },
  {
   "cell_type": "markdown",
   "id": "bd30d78e",
   "metadata": {},
   "source": [
    "<div class=\"alert alert-danger\"; style=\"border-left: 7px solid red\">\n",
    "<b>⛔️ Reviewer's comment, v. 1</b> \n",
    "\n",
    "<a class=\"tocSkip\"></a><s>You remember this section 1 is called 'Find and remove duplicates'? So you need to check for duplicates. It would be good if you could display the first lines at the previous step."
   ]
  },
  {
   "cell_type": "markdown",
   "id": "889349c1",
   "metadata": {},
   "source": [
    "### `aisles` data frame"
   ]
  },
  {
   "cell_type": "code",
   "execution_count": 17,
   "id": "9da89fb9-4679-40f5-ad0d-c34df753a3f8",
   "metadata": {},
   "outputs": [
    {
     "data": {
      "text/plain": [
       "0"
      ]
     },
     "execution_count": 17,
     "metadata": {},
     "output_type": "execute_result"
    }
   ],
   "source": [
    "aisles_df.duplicated().sum() # Getting a count of the duplicate rows"
   ]
  },
  {
   "cell_type": "markdown",
   "id": "4eb67080",
   "metadata": {},
   "source": [
    "There appear to be no duplicate rows in the aisles directory DataFrame."
   ]
  },
  {
   "cell_type": "markdown",
   "id": "ac63826f",
   "metadata": {},
   "source": [
    "<div class=\"alert alert-danger\"; style=\"border-left: 7px solid red\">\n",
    "<b>⛔️ Reviewer's comment, v. 1</b> \n",
    "\n",
    "<a class=\"tocSkip\"></a><s>Same here."
   ]
  },
  {
   "cell_type": "markdown",
   "id": "d8e86bb9",
   "metadata": {},
   "source": [
    "<div class=\"alert alert-info\"; style=\"border-left: 7px solid blue\">\n",
    "<b>Student's comment, v. 1</b>\n",
    "<div>I changed the code to search for duplicates instead of simply displaying the first five lines of each and added a brief conclusion for both.\n",
    "    \n",
    "<div class=\"alert alert-success\"; style=\"border-left: 7px solid green\">\n",
    "<b>✅ Reviewer's comment, v. 2</b> \n",
    "    \n",
    "Very good.</div>"
   ]
  },
  {
   "cell_type": "markdown",
   "id": "274cd06a",
   "metadata": {},
   "source": [
    "### `order_products` data frame"
   ]
  },
  {
   "cell_type": "code",
   "execution_count": 18,
   "id": "52326689-84a8-4b8f-a881-7c68780f62c9",
   "metadata": {},
   "outputs": [
    {
     "data": {
      "text/plain": [
       "0"
      ]
     },
     "execution_count": 18,
     "metadata": {},
     "output_type": "execute_result"
    }
   ],
   "source": [
    "# Check for fullly duplicate rows\n",
    "order_products_df.duplicated().sum() # Getting a count of duplicate rows"
   ]
  },
  {
   "cell_type": "code",
   "execution_count": 19,
   "id": "7b861391",
   "metadata": {},
   "outputs": [
    {
     "data": {
      "text/plain": [
       "0"
      ]
     },
     "execution_count": 19,
     "metadata": {},
     "output_type": "execute_result"
    }
   ],
   "source": [
    "# Double check for any other tricky duplicates\n",
    "order_products_df.duplicated(['order_id', 'product_id']).sum() # Getting a count of duplicate order IDs and product IDs"
   ]
  },
  {
   "cell_type": "markdown",
   "id": "3fe942ac",
   "metadata": {},
   "source": [
    "Because there can be multiple items in an order, and the same product ordered multiple times, not having duplicates of both the order and product ID indicates there are no duplicate rows."
   ]
  },
  {
   "cell_type": "markdown",
   "id": "0b890492",
   "metadata": {},
   "source": [
    "<div class=\"alert alert-success\"; style=\"border-left: 7px solid green\">\n",
    "<b>✅ Reviewer's comment, v. 1</b> \n",
    "    \n",
    "Well done."
   ]
  },
  {
   "cell_type": "markdown",
   "id": "1e46de76",
   "metadata": {},
   "source": [
    "## Find and remove missing values\n"
   ]
  },
  {
   "cell_type": "markdown",
   "id": "c0aebd78",
   "metadata": {},
   "source": [
    "### `products` data frame"
   ]
  },
  {
   "cell_type": "code",
   "execution_count": 20,
   "id": "e96167bc",
   "metadata": {
    "scrolled": true
   },
   "outputs": [
    {
     "data": {
      "text/plain": [
       "1258"
      ]
     },
     "metadata": {},
     "output_type": "display_data"
    },
    {
     "data": {
      "text/plain": [
       "1258"
      ]
     },
     "execution_count": 20,
     "metadata": {},
     "output_type": "execute_result"
    }
   ],
   "source": [
    "# Are all of the missing product names associated with aisle ID 100?\n",
    "display(products_df['product_name'].isna().sum()) # Getting a count of missing values\n",
    "count = products_df[(products_df['product_name'].isna()) & (products_df['aisle_id'] == 100)] # Creating a modified DataFrame where aisle_id is 100 and product_name is a missing value\n",
    "count['product_id'].count() # Getting a count, using product_id as reference"
   ]
  },
  {
   "cell_type": "markdown",
   "id": "eb63c7bb",
   "metadata": {},
   "source": [
    "Being that the count of all the missing values in product_name is equal to that of those with aisle ID of 100, it can be concluded all missing product names are in aisle 100."
   ]
  },
  {
   "cell_type": "code",
   "execution_count": 21,
   "id": "8fd0a541",
   "metadata": {},
   "outputs": [
    {
     "data": {
      "text/plain": [
       "1258"
      ]
     },
     "execution_count": 21,
     "metadata": {},
     "output_type": "execute_result"
    }
   ],
   "source": [
    "# Are all of the missing product names associated with department ID 21?\n",
    "count = products_df[(products_df['product_name'].isna()) & (products_df['department_id'] == 21)] # Creating a modified DataFrame where department_id is 21 and product_name is a missing value\n",
    "count['product_id'].count() # Getting a count, using product_id as reference"
   ]
  },
  {
   "cell_type": "markdown",
   "id": "c60d51a8",
   "metadata": {},
   "source": [
    "Just as the missing value for all the values was 1258, and we recieved the same when limited to the department ID of 21, it can be concluded that all missing product names are both in aisle 100, but are in the department with ID of 21."
   ]
  },
  {
   "cell_type": "code",
   "execution_count": 22,
   "id": "325c3464",
   "metadata": {},
   "outputs": [
    {
     "data": {
      "text/html": [
       "<div>\n",
       "<style scoped>\n",
       "    .dataframe tbody tr th:only-of-type {\n",
       "        vertical-align: middle;\n",
       "    }\n",
       "\n",
       "    .dataframe tbody tr th {\n",
       "        vertical-align: top;\n",
       "    }\n",
       "\n",
       "    .dataframe thead th {\n",
       "        text-align: right;\n",
       "    }\n",
       "</style>\n",
       "<table border=\"1\" class=\"dataframe\">\n",
       "  <thead>\n",
       "    <tr style=\"text-align: right;\">\n",
       "      <th></th>\n",
       "      <th>aisle_id</th>\n",
       "      <th>aisle</th>\n",
       "    </tr>\n",
       "  </thead>\n",
       "  <tbody>\n",
       "    <tr>\n",
       "      <th>99</th>\n",
       "      <td>100</td>\n",
       "      <td>missing</td>\n",
       "    </tr>\n",
       "  </tbody>\n",
       "</table>\n",
       "</div>"
      ],
      "text/plain": [
       "    aisle_id    aisle\n",
       "99       100  missing"
      ]
     },
     "metadata": {},
     "output_type": "display_data"
    },
    {
     "data": {
      "text/html": [
       "<div>\n",
       "<style scoped>\n",
       "    .dataframe tbody tr th:only-of-type {\n",
       "        vertical-align: middle;\n",
       "    }\n",
       "\n",
       "    .dataframe tbody tr th {\n",
       "        vertical-align: top;\n",
       "    }\n",
       "\n",
       "    .dataframe thead th {\n",
       "        text-align: right;\n",
       "    }\n",
       "</style>\n",
       "<table border=\"1\" class=\"dataframe\">\n",
       "  <thead>\n",
       "    <tr style=\"text-align: right;\">\n",
       "      <th></th>\n",
       "      <th>department_id</th>\n",
       "      <th>department</th>\n",
       "    </tr>\n",
       "  </thead>\n",
       "  <tbody>\n",
       "    <tr>\n",
       "      <th>20</th>\n",
       "      <td>21</td>\n",
       "      <td>missing</td>\n",
       "    </tr>\n",
       "  </tbody>\n",
       "</table>\n",
       "</div>"
      ],
      "text/plain": [
       "    department_id department\n",
       "20             21    missing"
      ]
     },
     "metadata": {},
     "output_type": "display_data"
    }
   ],
   "source": [
    "# What is this ailse and department?\n",
    "display(aisles_df[aisles_df['aisle_id'] == 100]) # Displaying the row in which aisle_id is 100\n",
    "display(depts_df[depts_df['department_id'] == 21])# Displaying "
   ]
  },
  {
   "cell_type": "markdown",
   "id": "5db73498",
   "metadata": {},
   "source": [
    "<div class=\"alert alert-success\"; style=\"border-left: 7px solid green\">\n",
    "<b>✅ Reviewer's comment, v. 1</b> \n",
    "    \n",
    "Excellent analysis."
   ]
  },
  {
   "cell_type": "markdown",
   "id": "0986dbe2",
   "metadata": {},
   "source": [
    "Both the aisle and department designations are missing."
   ]
  },
  {
   "cell_type": "code",
   "execution_count": 23,
   "id": "6b295120",
   "metadata": {},
   "outputs": [],
   "source": [
    "# Fill missing product names with 'Unknown'\n",
    "products_df['product_name'] = products_df['product_name'].fillna('Unknown') # Replacing the missing product names with 'Unknown'"
   ]
  },
  {
   "cell_type": "markdown",
   "id": "fc70e5ad",
   "metadata": {},
   "source": [
    "<div class=\"alert alert-danger\"; style=\"border-left: 7px solid red\">\n",
    "<b>⛔️ Reviewer's comment, v. 1</b> \n",
    "\n",
    "<a class=\"tocSkip\"></a><s>You forgot to save the dataframe with replaced values. Could you please add?"
   ]
  },
  {
   "cell_type": "markdown",
   "id": "1eb6c21e",
   "metadata": {},
   "source": [
    "<div class=\"alert alert-info\"; style=\"border-left: 7px solid blue\">\n",
    "<b>Student's comment, v. 1</b>\n",
    "    <div>DataFrame has been saved.\n",
    "    \n",
    "<div class=\"alert alert-success\"; style=\"border-left: 7px solid green\">\n",
    "<b>✅ Reviewer's comment, v. 2</b> \n",
    "    \n",
    "Yes, saved now 👍🏼</div>"
   ]
  },
  {
   "cell_type": "markdown",
   "id": "7eb45c86",
   "metadata": {},
   "source": [
    "### `orders` data frame"
   ]
  },
  {
   "cell_type": "code",
   "execution_count": 24,
   "id": "93e41d96",
   "metadata": {},
   "outputs": [
    {
     "name": "stdout",
     "output_type": "stream",
     "text": [
      "<class 'pandas.core.frame.DataFrame'>\n",
      "RangeIndex: 478952 entries, 0 to 478951\n",
      "Data columns (total 6 columns):\n",
      " #   Column                  Non-Null Count   Dtype  \n",
      "---  ------                  --------------   -----  \n",
      " 0   order_id                478952 non-null  int64  \n",
      " 1   user_id                 478952 non-null  int64  \n",
      " 2   order_number            478952 non-null  int64  \n",
      " 3   order_dow               478952 non-null  int64  \n",
      " 4   order_hour_of_day       478952 non-null  int64  \n",
      " 5   days_since_prior_order  450135 non-null  float64\n",
      "dtypes: float64(1), int64(5)\n",
      "memory usage: 21.9 MB\n"
     ]
    }
   ],
   "source": [
    "ic_orders_df.info()"
   ]
  },
  {
   "cell_type": "code",
   "execution_count": 25,
   "id": "166e5a86",
   "metadata": {
    "scrolled": true
   },
   "outputs": [
    {
     "data": {
      "text/plain": [
       "order_id                      0\n",
       "user_id                       0\n",
       "order_number                  0\n",
       "order_dow                     0\n",
       "order_hour_of_day             0\n",
       "days_since_prior_order    28817\n",
       "dtype: int64"
      ]
     },
     "metadata": {},
     "output_type": "display_data"
    },
    {
     "data": {
      "text/plain": [
       "28817"
      ]
     },
     "metadata": {},
     "output_type": "display_data"
    }
   ],
   "source": [
    "# Are there any missing values where it's not a customer's first order?\n",
    "display(ic_orders_df.isna().sum()) # Getting total number of missing values for comparison\n",
    "\n",
    "display(ic_orders_df.loc[ic_orders_df['order_number'] == 1, 'days_since_prior_order'].isna().count())"
   ]
  },
  {
   "cell_type": "markdown",
   "id": "a8fe793f",
   "metadata": {},
   "source": [
    "The first table displayed shows that the only missing values occur in the days_since_prior_order column, with a total of 28817. When the condition that order_number is equal to 1 is used and the toal number of missing values occur with said condtion also total 28817, it can be concluded that all missing values occur on a customer's first order."
   ]
  },
  {
   "cell_type": "markdown",
   "id": "4e23d089",
   "metadata": {},
   "source": [
    "<div class=\"alert alert-danger\"; style=\"border-left: 7px solid red\">\n",
    "<b>⛔️ Reviewer's comment, v. 1</b> \n",
    "\n",
    "<a class=\"tocSkip\"></a><s>\n",
    "    \n",
    "Could you please check that `order_number == 1` in all the entries where `days_since_prior_order` is missing? "
   ]
  },
  {
   "cell_type": "markdown",
   "id": "73e1d61b",
   "metadata": {},
   "source": [
    "<div class=\"alert alert-info\"; style=\"border-left: 7px solid blue\">\n",
    "<b>Student's comment, v. 1</b>\n",
    "    <div>Added in code to double check with the condition of order_number == 1. A conclusion was added based on this information.\n",
    "    \n",
    "    \n",
    "<div class=\"alert alert-success\"; style=\"border-left: 7px solid green\">\n",
    "<b>✅ Reviewer's comment, v. 2</b> \n",
    "    \n",
    "OK, great, you compared the number of missing values, and now we can be sure that they are only attributed to first orders.</div>"
   ]
  },
  {
   "cell_type": "markdown",
   "id": "69dc9ca4",
   "metadata": {},
   "source": [
    "### `order_products` data frame"
   ]
  },
  {
   "cell_type": "code",
   "execution_count": 26,
   "id": "9a78e5ee",
   "metadata": {},
   "outputs": [
    {
     "data": {
      "text/plain": [
       "1.0"
      ]
     },
     "metadata": {},
     "output_type": "display_data"
    },
    {
     "data": {
      "text/plain": [
       "64.0"
      ]
     },
     "metadata": {},
     "output_type": "display_data"
    }
   ],
   "source": [
    "# What are the min and max values in this column?\n",
    "display(order_products_df['add_to_cart_order'].min()) # Minimum values for all columns since 'this column' isn't specified\n",
    "display(order_products_df['add_to_cart_order'].max()) # Maximum values for all columns since 'this column' isn't specified"
   ]
  },
  {
   "cell_type": "markdown",
   "id": "b76e59c6",
   "metadata": {},
   "source": [
    "<div class=\"alert alert-warning\"; style=\"border-left: 7px solid gold\">\n",
    "<b>⚠️ Reviewer's comment, v. 1</b> \n",
    "\n",
    "\n",
    "\n",
    "Sorry for that. I believe the column you need to check is `add_to_car_order` as it is the only one with missing values, which we study and treat in this section."
   ]
  },
  {
   "cell_type": "markdown",
   "id": "b752be1a",
   "metadata": {},
   "source": [
    "<div class=\"alert alert-info\"; style=\"border-left: 7px solid blue\">\n",
    "<b>Student's comment, v. 1</b>\n",
    "    <div>Changed to just check add_to_cart_order.\n",
    "    \n",
    "\n",
    "<div class=\"alert alert-success\"; style=\"border-left: 7px solid green\">\n",
    "<b>✅ Reviewer's comment, v. 2</b> \n",
    "    \n",
    "Good. </div>"
   ]
  },
  {
   "cell_type": "code",
   "execution_count": 27,
   "id": "ab9d0c2b",
   "metadata": {},
   "outputs": [
    {
     "data": {
      "text/plain": [
       "array([2449164, 1968313, 2926893, 1717990, 1959075,  844733,   61355,\n",
       "        936852,  264710, 1564093,  129627,  293169, 2849370, 1386261,\n",
       "       3308010,  903110, 2136777, 3347453, 1888628,  165801, 2094761,\n",
       "       1038146, 2997021,  813364, 2256933,  171934, 2409109, 1730767,\n",
       "       1169835,  733526,  404157, 3125735,  747668, 1800005, 1961723,\n",
       "        871281,  388234, 1648217, 1477139,  102236, 1021563, 1832957,\n",
       "       2721963,  678116, 1220886, 1673227, 2999801, 1633337, 2470674,\n",
       "       2625444, 1677118, 2479011, 3383594, 1183255, 1713430, 2652650,\n",
       "       1598369, 1916118,  854647, 1302315,  888470,  180546, 2621907,\n",
       "       1308785, 2729254,    9310, 2170451, 2979697, 1625713, 1529171])"
      ]
     },
     "metadata": {},
     "output_type": "display_data"
    }
   ],
   "source": [
    "# Save all order IDs with at least one missing value in 'add_to_cart_order'\n",
    "missing_add_to_cart_orders = order_products_df[order_products_df['add_to_cart_order'].isna()]['order_id'].unique() # Saving all order IDs with missing values in their respective row \n",
    "display(missing_add_to_cart_orders) # Displaying"
   ]
  },
  {
   "cell_type": "markdown",
   "id": "1f0f2a35",
   "metadata": {},
   "source": [
    "<div class=\"alert alert-warning\"; style=\"border-left: 7px solid gold\">\n",
    "<b>⚠️ Reviewer's comment, v. 1</b> \n",
    "\n",
    "A more optmial way to save the order numbers is:\n",
    "    \n",
    "    missing_add_to_cart_orders = order_products_df[order_product_df['add_to_cart_order'].isna()]['order_id'].unique()"
   ]
  },
  {
   "cell_type": "markdown",
   "id": "3cfe32ce",
   "metadata": {},
   "source": [
    "<div class=\"alert alert-info\"; style=\"border-left: 7px solid blue\">\n",
    "<b>Student's comment, v. 1</b>\n",
    "    <div>I swapped out for the more efficient code and made a note of this for the future. I'm still aclimating to the amount of various methods to get certain tasks done and will hopefully become more efficient with practice and repetition.\n",
    "    \n",
    "<div class=\"alert alert-success\"; style=\"border-left: 7px solid green\">\n",
    "<b>✅ Reviewer's comment, v. 2</b> \n",
    "    \n",
    "Yes, there are numerous ways to do the same thing in python and the more experience you have the better you will understands, which is a more efficient way to come to the result you need.</div>"
   ]
  },
  {
   "cell_type": "code",
   "execution_count": 28,
   "id": "54c31695",
   "metadata": {
    "scrolled": false
   },
   "outputs": [
    {
     "data": {
      "text/plain": [
       "65"
      ]
     },
     "execution_count": 28,
     "metadata": {},
     "output_type": "execute_result"
    }
   ],
   "source": [
    "# Do all orders with missing values have more than 64 products?\n",
    "order_prod_count = order_products_df.groupby('order_id').count()['product_id'].reset_index(name='count') # Grouping by the order ID with a count of the products in each order\n",
    "missing_order_prod_count = order_prod_count.query(\"order_id in @missing_add_to_cart_orders\") # Filtering to keep those with at least one missing add_to_cart_order value \n",
    "missing_order_prod_count['count'].min() # Getting the minimum value in the counts column"
   ]
  },
  {
   "cell_type": "markdown",
   "id": "ec0d5eb6",
   "metadata": {},
   "source": [
    "The minimum number of products for orders with missing values is 65, therefore, all orders with missing values have more than 64 products ordered."
   ]
  },
  {
   "cell_type": "markdown",
   "id": "ad090b5c",
   "metadata": {},
   "source": [
    "<div class=\"alert alert-danger\"; style=\"border-left: 7px solid red\">\n",
    "<b>⛔️ Reviewer's comment, v. 1</b> \n",
    "\n",
    "<a class=\"tocSkip\"></a><s>You need to select all the entries from `order_products_df` with order numbers from your list, group them by order number and check the size of each group."
   ]
  },
  {
   "cell_type": "markdown",
   "id": "233b46d1",
   "metadata": {},
   "source": [
    "<div class=\"alert alert-info\"; style=\"border-left: 7px solid blue\">\n",
    "<b>Student's comment, v. 1</b>\n",
    "    <div>I corrected the above code and added a conclusion to answer the question.\n",
    "    \n",
    "<div class=\"alert alert-success\"; style=\"border-left: 7px solid green\">\n",
    "<b>✅ Reviewer's comment, v. 2</b> \n",
    "    \n",
    "This is correct now.</div>"
   ]
  },
  {
   "cell_type": "code",
   "execution_count": 29,
   "id": "7a987d08",
   "metadata": {},
   "outputs": [
    {
     "name": "stdout",
     "output_type": "stream",
     "text": [
      "<class 'pandas.core.frame.DataFrame'>\n",
      "RangeIndex: 4545007 entries, 0 to 4545006\n",
      "Data columns (total 4 columns):\n",
      " #   Column             Dtype\n",
      "---  ------             -----\n",
      " 0   order_id           int64\n",
      " 1   product_id         int64\n",
      " 2   add_to_cart_order  int64\n",
      " 3   reordered          int64\n",
      "dtypes: int64(4)\n",
      "memory usage: 138.7 MB\n"
     ]
    }
   ],
   "source": [
    "# Replace missing values with 999 and convert column to integer type\n",
    "order_products_df['add_to_cart_order'] = order_products_df['add_to_cart_order'].fillna(999) #Replacing missing values with 999\n",
    "order_products_df['add_to_cart_order'] = order_products_df['add_to_cart_order'].astype('int') # Converting values to integer type and overwriting the column\n",
    "order_products_df.info() # Printing info to verify data type was converted"
   ]
  },
  {
   "cell_type": "markdown",
   "id": "fea4bcc7",
   "metadata": {},
   "source": [
    "<div class=\"alert alert-warning\"; style=\"border-left: 7px solid gold\">\n",
    "<b>⚠️ Reviewer's comment, v. 1</b> \n",
    "\n",
    "You should better say explicitly the name of the column in which you replacing the missing values."
   ]
  },
  {
   "cell_type": "markdown",
   "id": "dbf63ba4",
   "metadata": {},
   "source": [
    "<div class=\"alert alert-info\"; style=\"border-left: 7px solid blue\">\n",
    "<b>Student's comment, v. 1</b>\n",
    "    <div>Named add_to_cart_order for replacing the missing values.\n",
    "    \n",
    "<div class=\"alert alert-success\"; style=\"border-left: 7px solid green\">\n",
    "<b>✅ Reviewer's comment, v. 2</b> \n",
    "    \n",
    "Yes, this is a better practice, because if you had missing values in other columns they would now be also filled with 999.</div>"
   ]
  },
  {
   "cell_type": "markdown",
   "id": "turkish-kidney",
   "metadata": {},
   "source": [
    "# [A] Easy (must complete all to pass)"
   ]
  },
  {
   "cell_type": "markdown",
   "id": "short-capability",
   "metadata": {},
   "source": [
    "### [A1] Verify that the `'order_hour_of_day'` and `'order_dow'` values in the `orders` tables are sensible (i.e. `'order_hour_of_day'` ranges from 0 to 23 and `'order_dow'` ranges from 0 to 6)"
   ]
  },
  {
   "cell_type": "code",
   "execution_count": 30,
   "id": "d8bbfffc",
   "metadata": {},
   "outputs": [
    {
     "data": {
      "text/plain": [
       "0"
      ]
     },
     "metadata": {},
     "output_type": "display_data"
    },
    {
     "data": {
      "text/plain": [
       "23"
      ]
     },
     "metadata": {},
     "output_type": "display_data"
    }
   ],
   "source": [
    "display(ic_orders_df['order_hour_of_day'].min())\n",
    "display(ic_orders_df['order_hour_of_day'].max())"
   ]
  },
  {
   "cell_type": "markdown",
   "id": "c5c0e130",
   "metadata": {},
   "source": [
    "Minumum value and maximum value for `order_hour_of_day` is 0 and 23 respectively, showing a proper range of documented hours in 24-hour format."
   ]
  },
  {
   "cell_type": "code",
   "execution_count": 31,
   "id": "accessory-malaysia",
   "metadata": {},
   "outputs": [
    {
     "data": {
      "text/plain": [
       "0"
      ]
     },
     "metadata": {},
     "output_type": "display_data"
    },
    {
     "data": {
      "text/plain": [
       "6"
      ]
     },
     "metadata": {},
     "output_type": "display_data"
    }
   ],
   "source": [
    "display(ic_orders_df['order_dow'].min())\n",
    "display(ic_orders_df['order_dow'].max())"
   ]
  },
  {
   "cell_type": "markdown",
   "id": "9bc6579e",
   "metadata": {},
   "source": [
    "Minumum value and maximum value for `order_dow` is 0 and 6 respectively, showing a proper range of documented days starting at day 0 and ending with day 6."
   ]
  },
  {
   "cell_type": "markdown",
   "id": "e88a196f",
   "metadata": {},
   "source": [
    "<div class=\"alert alert-success\"; style=\"border-left: 7px solid green\">\n",
    "<b>✅ Reviewer's comment, v. 1</b> \n",
    "    \n",
    "Good."
   ]
  },
  {
   "cell_type": "markdown",
   "id": "a6743a70",
   "metadata": {},
   "source": [
    "### [A2] What time of day do people shop for groceries?"
   ]
  },
  {
   "cell_type": "code",
   "execution_count": 32,
   "id": "ec5a181a",
   "metadata": {
    "scrolled": true
   },
   "outputs": [
    {
     "data": {
      "text/html": [
       "<div>\n",
       "<style scoped>\n",
       "    .dataframe tbody tr th:only-of-type {\n",
       "        vertical-align: middle;\n",
       "    }\n",
       "\n",
       "    .dataframe tbody tr th {\n",
       "        vertical-align: top;\n",
       "    }\n",
       "\n",
       "    .dataframe thead th {\n",
       "        text-align: right;\n",
       "    }\n",
       "</style>\n",
       "<table border=\"1\" class=\"dataframe\">\n",
       "  <thead>\n",
       "    <tr style=\"text-align: right;\">\n",
       "      <th></th>\n",
       "      <th>order_hour_of_day</th>\n",
       "      <th>freq</th>\n",
       "    </tr>\n",
       "  </thead>\n",
       "  <tbody>\n",
       "    <tr>\n",
       "      <th>0</th>\n",
       "      <td>0</td>\n",
       "      <td>3180</td>\n",
       "    </tr>\n",
       "    <tr>\n",
       "      <th>1</th>\n",
       "      <td>1</td>\n",
       "      <td>1763</td>\n",
       "    </tr>\n",
       "    <tr>\n",
       "      <th>2</th>\n",
       "      <td>2</td>\n",
       "      <td>989</td>\n",
       "    </tr>\n",
       "    <tr>\n",
       "      <th>3</th>\n",
       "      <td>3</td>\n",
       "      <td>770</td>\n",
       "    </tr>\n",
       "    <tr>\n",
       "      <th>4</th>\n",
       "      <td>4</td>\n",
       "      <td>765</td>\n",
       "    </tr>\n",
       "    <tr>\n",
       "      <th>5</th>\n",
       "      <td>5</td>\n",
       "      <td>1371</td>\n",
       "    </tr>\n",
       "    <tr>\n",
       "      <th>6</th>\n",
       "      <td>6</td>\n",
       "      <td>4215</td>\n",
       "    </tr>\n",
       "    <tr>\n",
       "      <th>7</th>\n",
       "      <td>7</td>\n",
       "      <td>13043</td>\n",
       "    </tr>\n",
       "    <tr>\n",
       "      <th>8</th>\n",
       "      <td>8</td>\n",
       "      <td>25024</td>\n",
       "    </tr>\n",
       "    <tr>\n",
       "      <th>9</th>\n",
       "      <td>9</td>\n",
       "      <td>35896</td>\n",
       "    </tr>\n",
       "    <tr>\n",
       "      <th>10</th>\n",
       "      <td>10</td>\n",
       "      <td>40578</td>\n",
       "    </tr>\n",
       "    <tr>\n",
       "      <th>11</th>\n",
       "      <td>11</td>\n",
       "      <td>40032</td>\n",
       "    </tr>\n",
       "    <tr>\n",
       "      <th>12</th>\n",
       "      <td>12</td>\n",
       "      <td>38034</td>\n",
       "    </tr>\n",
       "    <tr>\n",
       "      <th>13</th>\n",
       "      <td>13</td>\n",
       "      <td>39007</td>\n",
       "    </tr>\n",
       "    <tr>\n",
       "      <th>14</th>\n",
       "      <td>14</td>\n",
       "      <td>39631</td>\n",
       "    </tr>\n",
       "    <tr>\n",
       "      <th>15</th>\n",
       "      <td>15</td>\n",
       "      <td>39789</td>\n",
       "    </tr>\n",
       "    <tr>\n",
       "      <th>16</th>\n",
       "      <td>16</td>\n",
       "      <td>38112</td>\n",
       "    </tr>\n",
       "    <tr>\n",
       "      <th>17</th>\n",
       "      <td>17</td>\n",
       "      <td>31930</td>\n",
       "    </tr>\n",
       "    <tr>\n",
       "      <th>18</th>\n",
       "      <td>18</td>\n",
       "      <td>25510</td>\n",
       "    </tr>\n",
       "    <tr>\n",
       "      <th>19</th>\n",
       "      <td>19</td>\n",
       "      <td>19547</td>\n",
       "    </tr>\n",
       "    <tr>\n",
       "      <th>20</th>\n",
       "      <td>20</td>\n",
       "      <td>14624</td>\n",
       "    </tr>\n",
       "    <tr>\n",
       "      <th>21</th>\n",
       "      <td>21</td>\n",
       "      <td>11019</td>\n",
       "    </tr>\n",
       "    <tr>\n",
       "      <th>22</th>\n",
       "      <td>22</td>\n",
       "      <td>8512</td>\n",
       "    </tr>\n",
       "    <tr>\n",
       "      <th>23</th>\n",
       "      <td>23</td>\n",
       "      <td>5611</td>\n",
       "    </tr>\n",
       "  </tbody>\n",
       "</table>\n",
       "</div>"
      ],
      "text/plain": [
       "    order_hour_of_day   freq\n",
       "0                   0   3180\n",
       "1                   1   1763\n",
       "2                   2    989\n",
       "3                   3    770\n",
       "4                   4    765\n",
       "5                   5   1371\n",
       "6                   6   4215\n",
       "7                   7  13043\n",
       "8                   8  25024\n",
       "9                   9  35896\n",
       "10                 10  40578\n",
       "11                 11  40032\n",
       "12                 12  38034\n",
       "13                 13  39007\n",
       "14                 14  39631\n",
       "15                 15  39789\n",
       "16                 16  38112\n",
       "17                 17  31930\n",
       "18                 18  25510\n",
       "19                 19  19547\n",
       "20                 20  14624\n",
       "21                 21  11019\n",
       "22                 22   8512\n",
       "23                 23   5611"
      ]
     },
     "metadata": {},
     "output_type": "display_data"
    }
   ],
   "source": [
    "order_hour = ic_orders_df.groupby('order_hour_of_day')['order_id'].count() # Getting the counts of each hour of the day\n",
    "order_hour = order_hour.reset_index(name='freq') # Resetting the index and naming the column\n",
    "display(order_hour)"
   ]
  },
  {
   "cell_type": "code",
   "execution_count": 33,
   "id": "c1517bcb",
   "metadata": {},
   "outputs": [
    {
     "data": {
      "image/png": "[encoded data removed]",
      "text/plain": [
       "<Figure size 864x576 with 1 Axes>"
      ]
     },
     "metadata": {
      "needs_background": "light"
     },
     "output_type": "display_data"
    }
   ],
   "source": [
    "order_hour.plot(kind='bar',\n",
    "                x= 'order_hour_of_day',\n",
    "                y= 'freq',\n",
    "                title= 'Popular Shopping Times',\n",
    "                xlabel= 'Hour of Day',\n",
    "                ylabel= 'Number of orders',\n",
    "                xlim= [0, 25],\n",
    "                figsize= [12,8],\n",
    "                legend=False,\n",
    "                )\n",
    "plt.xticks(rotation=0)\n",
    "plt.show()"
   ]
  },
  {
   "cell_type": "markdown",
   "id": "c74f9899",
   "metadata": {},
   "source": [
    "<div class=\"alert alert-success\"; style=\"border-left: 7px solid green\">\n",
    "<b>✅ Reviewer's comment, v. 1</b> \n",
    "    \n",
    "Correct chart and looks very nice."
   ]
  },
  {
   "cell_type": "markdown",
   "id": "c6d4c8e9",
   "metadata": {},
   "source": [
    "<div class=\"alert alert-warning\"; style=\"border-left: 7px solid gold\">\n",
    "<b>⚠️ Reviewer's comment, v. 1</b> \n",
    "\n",
    "You may use the code below to rotate your x-axis tick labels:\n",
    "    \n",
    "    plt.xticks(rotation=0)"
   ]
  },
  {
   "cell_type": "markdown",
   "id": "ea698d66",
   "metadata": {},
   "source": [
    "The most popular time of day for purchasing groceris is at 10:00 a.m. and the number of sales holds relatively steady until approximately 4:00 p.m. at which point there is a steady decline until midnight. The early morning hours between midnight and 6:00 a.m. don't see much activity, but then the number of purchases increases rapidly to the aforementioned peak at 10:000 a.m."
   ]
  },
  {
   "cell_type": "markdown",
   "id": "11270eed",
   "metadata": {},
   "source": [
    "<div class=\"alert alert-danger\"; style=\"border-left: 7px solid red\">\n",
    "<b>⛔️ Reviewer's comment, v. 1</b> \n",
    "\n",
    "<a class=\"tocSkip\"></a><s>Yes, please add a conclusion."
   ]
  },
  {
   "cell_type": "markdown",
   "id": "9b21e8c3",
   "metadata": {},
   "source": [
    "<div class=\"alert alert-info\"; style=\"border-left: 7px solid blue\">\n",
    "<b>Student's comment, v. 1</b>\n",
    "    <div>Added the rotation and conclusion - I ended up having to work on some of this project locally on my machine because the kernel kept dying, and I missed the conclusion when I copied everything over. I recognize it wasn't the most efficient way to do it, so will likely not repeat the method in the future.\n",
    "    \n",
    "<div class=\"alert alert-success\"; style=\"border-left: 7px solid green\">\n",
    "<b>✅ Reviewer's comment, v. 2</b> \n",
    "    \n",
    "OK, I see. I think you can actually work locally and just upload your notebook (and don't have to copy from your notebook to Practicum one), but I'm afraid I cannot explain how to do that. You may ask the Practicum staff in Slack I think.</div>"
   ]
  },
  {
   "cell_type": "markdown",
   "id": "documented-command",
   "metadata": {},
   "source": [
    "### [A3] What day of the week do people shop for groceries?"
   ]
  },
  {
   "cell_type": "code",
   "execution_count": 34,
   "id": "chief-digit",
   "metadata": {
    "scrolled": true
   },
   "outputs": [
    {
     "data": {
      "text/html": [
       "<div>\n",
       "<style scoped>\n",
       "    .dataframe tbody tr th:only-of-type {\n",
       "        vertical-align: middle;\n",
       "    }\n",
       "\n",
       "    .dataframe tbody tr th {\n",
       "        vertical-align: top;\n",
       "    }\n",
       "\n",
       "    .dataframe thead th {\n",
       "        text-align: right;\n",
       "    }\n",
       "</style>\n",
       "<table border=\"1\" class=\"dataframe\">\n",
       "  <thead>\n",
       "    <tr style=\"text-align: right;\">\n",
       "      <th></th>\n",
       "      <th>order_dow</th>\n",
       "      <th>freq</th>\n",
       "    </tr>\n",
       "  </thead>\n",
       "  <tbody>\n",
       "    <tr>\n",
       "      <th>0</th>\n",
       "      <td>0</td>\n",
       "      <td>84090</td>\n",
       "    </tr>\n",
       "    <tr>\n",
       "      <th>1</th>\n",
       "      <td>1</td>\n",
       "      <td>82185</td>\n",
       "    </tr>\n",
       "    <tr>\n",
       "      <th>2</th>\n",
       "      <td>2</td>\n",
       "      <td>65833</td>\n",
       "    </tr>\n",
       "    <tr>\n",
       "      <th>3</th>\n",
       "      <td>3</td>\n",
       "      <td>60897</td>\n",
       "    </tr>\n",
       "    <tr>\n",
       "      <th>4</th>\n",
       "      <td>4</td>\n",
       "      <td>59810</td>\n",
       "    </tr>\n",
       "    <tr>\n",
       "      <th>5</th>\n",
       "      <td>5</td>\n",
       "      <td>63488</td>\n",
       "    </tr>\n",
       "    <tr>\n",
       "      <th>6</th>\n",
       "      <td>6</td>\n",
       "      <td>62649</td>\n",
       "    </tr>\n",
       "  </tbody>\n",
       "</table>\n",
       "</div>"
      ],
      "text/plain": [
       "   order_dow   freq\n",
       "0          0  84090\n",
       "1          1  82185\n",
       "2          2  65833\n",
       "3          3  60897\n",
       "4          4  59810\n",
       "5          5  63488\n",
       "6          6  62649"
      ]
     },
     "metadata": {},
     "output_type": "display_data"
    }
   ],
   "source": [
    "order_day = ic_orders_df.groupby('order_dow')['order_id'].count() # Getting the counts of each day of the week\n",
    "order_day = order_day.reset_index(name='freq') # Resetting the index and naming the column\n",
    "display(order_day)"
   ]
  },
  {
   "cell_type": "code",
   "execution_count": 35,
   "id": "3cd72c63",
   "metadata": {},
   "outputs": [
    {
     "data": {
      "image/png": "[encoded data removed]",
      "text/plain": [
       "<Figure size 864x576 with 1 Axes>"
      ]
     },
     "metadata": {
      "needs_background": "light"
     },
     "output_type": "display_data"
    }
   ],
   "source": [
    "order_day.plot(kind='bar',\n",
    "                x= 'order_dow',\n",
    "                y= 'freq',\n",
    "                title= 'Popular Shopping Days',\n",
    "                xlabel= 'Day of Week',\n",
    "                ylabel= 'Number of orders',\n",
    "                xlim= [0, 7],\n",
    "                figsize= [12,8],\n",
    "                legend=False\n",
    "                )\n",
    "plt.show()"
   ]
  },
  {
   "cell_type": "markdown",
   "id": "fcbe7cc0",
   "metadata": {},
   "source": [
    "The two highest days are 0 and 1, with 2 through 6 being relatively steady approximately 20,000 orders below the peak days. Asumming Sunday is designated 0, as it is not defined, the most popular days people shop are Sundays and Mondays."
   ]
  },
  {
   "cell_type": "markdown",
   "id": "dominant-lightning",
   "metadata": {},
   "source": [
    "<div class=\"alert alert-success\"; style=\"border-left: 7px solid green\">\n",
    "<b>✅ Reviewer's comment, v. 1</b> \n",
    "    \n",
    "Very good."
   ]
  },
  {
   "cell_type": "markdown",
   "id": "cutting-concert",
   "metadata": {},
   "source": [
    "### [A4] How long do people wait until placing another order?"
   ]
  },
  {
   "cell_type": "code",
   "execution_count": 36,
   "id": "c231f523",
   "metadata": {
    "scrolled": true
   },
   "outputs": [
    {
     "data": {
      "text/html": [
       "<div>\n",
       "<style scoped>\n",
       "    .dataframe tbody tr th:only-of-type {\n",
       "        vertical-align: middle;\n",
       "    }\n",
       "\n",
       "    .dataframe tbody tr th {\n",
       "        vertical-align: top;\n",
       "    }\n",
       "\n",
       "    .dataframe thead th {\n",
       "        text-align: right;\n",
       "    }\n",
       "</style>\n",
       "<table border=\"1\" class=\"dataframe\">\n",
       "  <thead>\n",
       "    <tr style=\"text-align: right;\">\n",
       "      <th></th>\n",
       "      <th>days_since_prior_order</th>\n",
       "      <th>count</th>\n",
       "    </tr>\n",
       "  </thead>\n",
       "  <tbody>\n",
       "    <tr>\n",
       "      <th>0</th>\n",
       "      <td>0</td>\n",
       "      <td>9589</td>\n",
       "    </tr>\n",
       "    <tr>\n",
       "      <th>1</th>\n",
       "      <td>1</td>\n",
       "      <td>20179</td>\n",
       "    </tr>\n",
       "    <tr>\n",
       "      <th>2</th>\n",
       "      <td>2</td>\n",
       "      <td>27138</td>\n",
       "    </tr>\n",
       "    <tr>\n",
       "      <th>3</th>\n",
       "      <td>3</td>\n",
       "      <td>30224</td>\n",
       "    </tr>\n",
       "    <tr>\n",
       "      <th>4</th>\n",
       "      <td>4</td>\n",
       "      <td>31006</td>\n",
       "    </tr>\n",
       "    <tr>\n",
       "      <th>5</th>\n",
       "      <td>5</td>\n",
       "      <td>30096</td>\n",
       "    </tr>\n",
       "    <tr>\n",
       "      <th>6</th>\n",
       "      <td>6</td>\n",
       "      <td>33930</td>\n",
       "    </tr>\n",
       "    <tr>\n",
       "      <th>7</th>\n",
       "      <td>7</td>\n",
       "      <td>44577</td>\n",
       "    </tr>\n",
       "    <tr>\n",
       "      <th>8</th>\n",
       "      <td>8</td>\n",
       "      <td>25361</td>\n",
       "    </tr>\n",
       "    <tr>\n",
       "      <th>9</th>\n",
       "      <td>9</td>\n",
       "      <td>16753</td>\n",
       "    </tr>\n",
       "    <tr>\n",
       "      <th>10</th>\n",
       "      <td>10</td>\n",
       "      <td>13309</td>\n",
       "    </tr>\n",
       "    <tr>\n",
       "      <th>11</th>\n",
       "      <td>11</td>\n",
       "      <td>11467</td>\n",
       "    </tr>\n",
       "    <tr>\n",
       "      <th>12</th>\n",
       "      <td>12</td>\n",
       "      <td>10658</td>\n",
       "    </tr>\n",
       "    <tr>\n",
       "      <th>13</th>\n",
       "      <td>13</td>\n",
       "      <td>11737</td>\n",
       "    </tr>\n",
       "    <tr>\n",
       "      <th>14</th>\n",
       "      <td>14</td>\n",
       "      <td>13992</td>\n",
       "    </tr>\n",
       "    <tr>\n",
       "      <th>15</th>\n",
       "      <td>15</td>\n",
       "      <td>9416</td>\n",
       "    </tr>\n",
       "    <tr>\n",
       "      <th>16</th>\n",
       "      <td>16</td>\n",
       "      <td>6587</td>\n",
       "    </tr>\n",
       "    <tr>\n",
       "      <th>17</th>\n",
       "      <td>17</td>\n",
       "      <td>5498</td>\n",
       "    </tr>\n",
       "    <tr>\n",
       "      <th>18</th>\n",
       "      <td>18</td>\n",
       "      <td>4971</td>\n",
       "    </tr>\n",
       "    <tr>\n",
       "      <th>19</th>\n",
       "      <td>19</td>\n",
       "      <td>4939</td>\n",
       "    </tr>\n",
       "    <tr>\n",
       "      <th>20</th>\n",
       "      <td>20</td>\n",
       "      <td>5302</td>\n",
       "    </tr>\n",
       "    <tr>\n",
       "      <th>21</th>\n",
       "      <td>21</td>\n",
       "      <td>6448</td>\n",
       "    </tr>\n",
       "    <tr>\n",
       "      <th>22</th>\n",
       "      <td>22</td>\n",
       "      <td>4514</td>\n",
       "    </tr>\n",
       "    <tr>\n",
       "      <th>23</th>\n",
       "      <td>23</td>\n",
       "      <td>3337</td>\n",
       "    </tr>\n",
       "    <tr>\n",
       "      <th>24</th>\n",
       "      <td>24</td>\n",
       "      <td>3015</td>\n",
       "    </tr>\n",
       "    <tr>\n",
       "      <th>25</th>\n",
       "      <td>25</td>\n",
       "      <td>2711</td>\n",
       "    </tr>\n",
       "    <tr>\n",
       "      <th>26</th>\n",
       "      <td>26</td>\n",
       "      <td>2640</td>\n",
       "    </tr>\n",
       "    <tr>\n",
       "      <th>27</th>\n",
       "      <td>27</td>\n",
       "      <td>2986</td>\n",
       "    </tr>\n",
       "    <tr>\n",
       "      <th>28</th>\n",
       "      <td>28</td>\n",
       "      <td>3745</td>\n",
       "    </tr>\n",
       "    <tr>\n",
       "      <th>29</th>\n",
       "      <td>29</td>\n",
       "      <td>2673</td>\n",
       "    </tr>\n",
       "    <tr>\n",
       "      <th>30</th>\n",
       "      <td>30</td>\n",
       "      <td>51337</td>\n",
       "    </tr>\n",
       "  </tbody>\n",
       "</table>\n",
       "</div>"
      ],
      "text/plain": [
       "    days_since_prior_order  count\n",
       "0                        0   9589\n",
       "1                        1  20179\n",
       "2                        2  27138\n",
       "3                        3  30224\n",
       "4                        4  31006\n",
       "5                        5  30096\n",
       "6                        6  33930\n",
       "7                        7  44577\n",
       "8                        8  25361\n",
       "9                        9  16753\n",
       "10                      10  13309\n",
       "11                      11  11467\n",
       "12                      12  10658\n",
       "13                      13  11737\n",
       "14                      14  13992\n",
       "15                      15   9416\n",
       "16                      16   6587\n",
       "17                      17   5498\n",
       "18                      18   4971\n",
       "19                      19   4939\n",
       "20                      20   5302\n",
       "21                      21   6448\n",
       "22                      22   4514\n",
       "23                      23   3337\n",
       "24                      24   3015\n",
       "25                      25   2711\n",
       "26                      26   2640\n",
       "27                      27   2986\n",
       "28                      28   3745\n",
       "29                      29   2673\n",
       "30                      30  51337"
      ]
     },
     "metadata": {},
     "output_type": "display_data"
    }
   ],
   "source": [
    "prior_order = ic_orders_df.groupby('days_since_prior_order')['order_id'].count() # Getting the counts of each day since prior order\n",
    "prior_order = prior_order.reset_index(name= 'count') # Resetting the index and naming the column\n",
    "prior_order = prior_order.astype('int') # Make the values integers\n",
    "display(prior_order)"
   ]
  },
  {
   "cell_type": "markdown",
   "id": "discrete-vertex",
   "metadata": {},
   "source": []
  },
  {
   "cell_type": "code",
   "execution_count": 37,
   "id": "exciting-fantasy",
   "metadata": {},
   "outputs": [
    {
     "data": {
      "image/png": "[encoded data removed]",
      "text/plain": [
       "<Figure size 864x576 with 1 Axes>"
      ]
     },
     "metadata": {
      "needs_background": "light"
     },
     "output_type": "display_data"
    }
   ],
   "source": [
    "prior_order.plot(kind='bar',\n",
    "                x= 'days_since_prior_order',\n",
    "                y= 'count',\n",
    "                title= 'Popular Shopping Days',\n",
    "                xlabel= 'Number of days',\n",
    "                ylabel= 'Number of orders',\n",
    "                xlim= [0, 30],\n",
    "                figsize= [12,8],\n",
    "                legend=False\n",
    "                )\n",
    "plt.show()"
   ]
  },
  {
   "cell_type": "markdown",
   "id": "b61c3881",
   "metadata": {},
   "source": [
    "Three conclusions can be drawn in observing the data.\n",
    "\n",
    "1. Either people regularly order on monthly/30-day intervals, or the system for documenting days since a previous order is capped at 30 days. As 30 days for groceries is a long interval for fresh produce and cold goods such as deli meat, it can be assumed that the 30 day count in inaccurate as it includes orders with a higher time since the previous order.\n",
    "\n",
    "2. ***The most common interval for ordering on instacart is at a weekly/seven-day interval***, with a relatively high count for fewer days as well.\n",
    "\n",
    "3. Illustrated by the slight upswings at the 14 day, 21 day, and 28 day marks, people likely shop on the same day of the week, with a shorter interval between orders being more common as illustrated by the peak at 7 days and roughly a quarter of the number of orders occuring at the 14 day mark."
   ]
  },
  {
   "cell_type": "markdown",
   "id": "8d926614",
   "metadata": {},
   "source": [
    "<div class=\"alert alert-success\"; style=\"border-left: 7px solid green\">\n",
    "<b>✅ Reviewer's comment, v. 1</b> \n",
    "    \n",
    "Accurate observations."
   ]
  },
  {
   "cell_type": "markdown",
   "id": "tight-staff",
   "metadata": {},
   "source": [
    "# [B] Medium (must complete all to pass)"
   ]
  },
  {
   "cell_type": "markdown",
   "id": "packed-classic",
   "metadata": {},
   "source": [
    "### [B1] Is there a difference in `'order_hour_of_day'` distributions on Wednesdays and Saturdays? Plot the histograms for both days and describe the differences that you see."
   ]
  },
  {
   "cell_type": "code",
   "execution_count": 38,
   "id": "d89b8403",
   "metadata": {},
   "outputs": [],
   "source": [
    "orders_wed = ic_orders_df[ic_orders_df['order_dow'] == 3] # Creating DataFrame for sales on Wednesday (3)\n",
    "orders_sat = ic_orders_df[ic_orders_df['order_dow'] == 6] # Creating DataFrame for sales on Sunday (0)"
   ]
  },
  {
   "cell_type": "code",
   "execution_count": 39,
   "id": "94e54e8a",
   "metadata": {},
   "outputs": [
    {
     "data": {
      "image/png": "[encoded data removed]",
      "text/plain": [
       "<Figure size 864x576 with 1 Axes>"
      ]
     },
     "metadata": {
      "needs_background": "light"
     },
     "output_type": "display_data"
    }
   ],
   "source": [
    "orders_wed['order_hour_of_day'].plot(kind='hist', bins=24, title='Saturday versus Wednesday hourly sales distribution', ylabel='Number of orders', xlabel='Hour of day', figsize=[12,8])\n",
    "orders_sat['order_hour_of_day'].plot(kind='hist', bins=24, alpha=0.6)\n",
    "\n",
    "plt.legend(['Wednesday', 'Saturday'])\n",
    "plt.show()"
   ]
  },
  {
   "cell_type": "markdown",
   "id": "bd7c4701",
   "metadata": {},
   "source": [
    "Based on the distributions, Wednesday sales have a similar, if not nearly identicle distribution to Saturday sales with only activity over the midday hours differing. The higher activity in the middle of the day Saturdays could be explained by weekend versus weekday; where people working typical normal nine to five are possibly more likely to have food from a more convenient source, or had already packed a meal rather than ordering groceries at that time then cooking for themselves."
   ]
  },
  {
   "cell_type": "markdown",
   "id": "charitable-congo",
   "metadata": {},
   "source": [
    "<div class=\"alert alert-danger\"; style=\"border-left: 7px solid red\">\n",
    "<b>⛔️ Reviewer's comment, v. 1</b> \n",
    "\n",
    "<a class=\"tocSkip\"></a><s>It should be Wednesday and ___Saturday___, not Sunday. Could you please correct the plot and description?"
   ]
  },
  {
   "cell_type": "markdown",
   "id": "963c6774",
   "metadata": {},
   "source": [
    "<div class=\"alert alert-info\"; style=\"border-left: 7px solid blue\">\n",
    "<b>Student's comment, v. 1</b>\n",
    "    <div>I corrected the day and my analysis of the chart.\n",
    "    \n",
    "<div class=\"alert alert-success\"; style=\"border-left: 7px solid green\">\n",
    "<b>✅ Reviewer's comment, v. 2</b> \n",
    "    \n",
    "Yes, your conclusion seems very logical.</div>"
   ]
  },
  {
   "cell_type": "markdown",
   "id": "e3891143",
   "metadata": {},
   "source": [
    "### [B2] What's the distribution for the number of orders per customer?"
   ]
  },
  {
   "cell_type": "code",
   "execution_count": 40,
   "id": "d8c26c23",
   "metadata": {
    "scrolled": true
   },
   "outputs": [
    {
     "data": {
      "text/html": [
       "<div>\n",
       "<style scoped>\n",
       "    .dataframe tbody tr th:only-of-type {\n",
       "        vertical-align: middle;\n",
       "    }\n",
       "\n",
       "    .dataframe tbody tr th {\n",
       "        vertical-align: top;\n",
       "    }\n",
       "\n",
       "    .dataframe thead th {\n",
       "        text-align: right;\n",
       "    }\n",
       "</style>\n",
       "<table border=\"1\" class=\"dataframe\">\n",
       "  <thead>\n",
       "    <tr style=\"text-align: right;\">\n",
       "      <th></th>\n",
       "      <th>order_num</th>\n",
       "      <th>count</th>\n",
       "    </tr>\n",
       "  </thead>\n",
       "  <tbody>\n",
       "    <tr>\n",
       "      <th>0</th>\n",
       "      <td>1</td>\n",
       "      <td>55357</td>\n",
       "    </tr>\n",
       "    <tr>\n",
       "      <th>1</th>\n",
       "      <td>2</td>\n",
       "      <td>36508</td>\n",
       "    </tr>\n",
       "    <tr>\n",
       "      <th>2</th>\n",
       "      <td>3</td>\n",
       "      <td>21547</td>\n",
       "    </tr>\n",
       "    <tr>\n",
       "      <th>3</th>\n",
       "      <td>4</td>\n",
       "      <td>13498</td>\n",
       "    </tr>\n",
       "    <tr>\n",
       "      <th>4</th>\n",
       "      <td>5</td>\n",
       "      <td>8777</td>\n",
       "    </tr>\n",
       "    <tr>\n",
       "      <th>5</th>\n",
       "      <td>6</td>\n",
       "      <td>6012</td>\n",
       "    </tr>\n",
       "    <tr>\n",
       "      <th>6</th>\n",
       "      <td>7</td>\n",
       "      <td>4240</td>\n",
       "    </tr>\n",
       "    <tr>\n",
       "      <th>7</th>\n",
       "      <td>8</td>\n",
       "      <td>3019</td>\n",
       "    </tr>\n",
       "    <tr>\n",
       "      <th>8</th>\n",
       "      <td>9</td>\n",
       "      <td>2152</td>\n",
       "    </tr>\n",
       "    <tr>\n",
       "      <th>9</th>\n",
       "      <td>10</td>\n",
       "      <td>1645</td>\n",
       "    </tr>\n",
       "    <tr>\n",
       "      <th>10</th>\n",
       "      <td>11</td>\n",
       "      <td>1308</td>\n",
       "    </tr>\n",
       "    <tr>\n",
       "      <th>11</th>\n",
       "      <td>12</td>\n",
       "      <td>947</td>\n",
       "    </tr>\n",
       "    <tr>\n",
       "      <th>12</th>\n",
       "      <td>13</td>\n",
       "      <td>703</td>\n",
       "    </tr>\n",
       "    <tr>\n",
       "      <th>13</th>\n",
       "      <td>14</td>\n",
       "      <td>512</td>\n",
       "    </tr>\n",
       "    <tr>\n",
       "      <th>14</th>\n",
       "      <td>15</td>\n",
       "      <td>437</td>\n",
       "    </tr>\n",
       "    <tr>\n",
       "      <th>15</th>\n",
       "      <td>16</td>\n",
       "      <td>263</td>\n",
       "    </tr>\n",
       "    <tr>\n",
       "      <th>16</th>\n",
       "      <td>17</td>\n",
       "      <td>184</td>\n",
       "    </tr>\n",
       "    <tr>\n",
       "      <th>17</th>\n",
       "      <td>18</td>\n",
       "      <td>121</td>\n",
       "    </tr>\n",
       "    <tr>\n",
       "      <th>18</th>\n",
       "      <td>19</td>\n",
       "      <td>85</td>\n",
       "    </tr>\n",
       "    <tr>\n",
       "      <th>19</th>\n",
       "      <td>20</td>\n",
       "      <td>52</td>\n",
       "    </tr>\n",
       "    <tr>\n",
       "      <th>20</th>\n",
       "      <td>21</td>\n",
       "      <td>22</td>\n",
       "    </tr>\n",
       "    <tr>\n",
       "      <th>21</th>\n",
       "      <td>22</td>\n",
       "      <td>23</td>\n",
       "    </tr>\n",
       "    <tr>\n",
       "      <th>22</th>\n",
       "      <td>23</td>\n",
       "      <td>19</td>\n",
       "    </tr>\n",
       "    <tr>\n",
       "      <th>23</th>\n",
       "      <td>24</td>\n",
       "      <td>3</td>\n",
       "    </tr>\n",
       "    <tr>\n",
       "      <th>24</th>\n",
       "      <td>25</td>\n",
       "      <td>1</td>\n",
       "    </tr>\n",
       "    <tr>\n",
       "      <th>25</th>\n",
       "      <td>26</td>\n",
       "      <td>1</td>\n",
       "    </tr>\n",
       "    <tr>\n",
       "      <th>26</th>\n",
       "      <td>28</td>\n",
       "      <td>1</td>\n",
       "    </tr>\n",
       "  </tbody>\n",
       "</table>\n",
       "</div>"
      ],
      "text/plain": [
       "    order_num  count\n",
       "0           1  55357\n",
       "1           2  36508\n",
       "2           3  21547\n",
       "3           4  13498\n",
       "4           5   8777\n",
       "5           6   6012\n",
       "6           7   4240\n",
       "7           8   3019\n",
       "8           9   2152\n",
       "9          10   1645\n",
       "10         11   1308\n",
       "11         12    947\n",
       "12         13    703\n",
       "13         14    512\n",
       "14         15    437\n",
       "15         16    263\n",
       "16         17    184\n",
       "17         18    121\n",
       "18         19     85\n",
       "19         20     52\n",
       "20         21     22\n",
       "21         22     23\n",
       "22         23     19\n",
       "23         24      3\n",
       "24         25      1\n",
       "25         26      1\n",
       "26         28      1"
      ]
     },
     "metadata": {},
     "output_type": "display_data"
    }
   ],
   "source": [
    "user_num = ic_orders_df['user_id'].value_counts() # Getting the number of times each user ID was recorded\n",
    "user_num = user_num.to_frame(name='order_num') # Converting Series to a DataFrame\n",
    "user_num = user_num.sort_values('order_num').reset_index() # Sorting in order of number of orders, and adding new index\n",
    "user_num = user_num.groupby('order_num').count().reset_index() # Getting a count of orders per customer and adding new index\n",
    "user_num.rename(columns = {'index': 'count'}, inplace=True) # renaming the columns for display purposes\n",
    "display(user_num)"
   ]
  },
  {
   "cell_type": "code",
   "execution_count": 41,
   "id": "00e69a66",
   "metadata": {},
   "outputs": [
    {
     "data": {
      "image/png": "[encoded data removed]",
      "text/plain": [
       "<Figure size 864x576 with 1 Axes>"
      ]
     },
     "metadata": {
      "needs_background": "light"
     },
     "output_type": "display_data"
    }
   ],
   "source": [
    "user_num.plot(kind='bar',\n",
    "              x= 'order_num',\n",
    "              y= 'count',\n",
    "              title= 'Return Customers',\n",
    "              xlabel= 'Orders per customer',\n",
    "              ylabel= 'Number of orders',\n",
    "              xlim= [0, 30],\n",
    "              figsize= [12,8],\n",
    "              legend=False\n",
    "              )\n",
    "plt.show()"
   ]
  },
  {
   "cell_type": "markdown",
   "id": "9b8653d5",
   "metadata": {},
   "source": [
    "The number of customers that make an additional orders drops off relatively quickly until the values starting at 20 orders becomes imperceivable on the graph.\n",
    "\n",
    "The table above, shows that the maximum number of orders recorded for a single user ID/customer is 28 orders. But at 20 orders, the count is so low (52) that the graph doesn't display it with the high number of customers that place a single order."
   ]
  },
  {
   "cell_type": "markdown",
   "id": "d2eff7d5",
   "metadata": {},
   "source": [
    "<div class=\"alert alert-success\"; style=\"border-left: 7px solid green\">\n",
    "<b>✅ Reviewer's comment, v. 1</b> \n",
    "    \n",
    "Absolutely."
   ]
  },
  {
   "cell_type": "markdown",
   "id": "54a0319c",
   "metadata": {},
   "source": [
    "### [B3] What are the top 20 popular products (display their id and name)?"
   ]
  },
  {
   "cell_type": "code",
   "execution_count": 42,
   "id": "exterior-arizona",
   "metadata": {
    "scrolled": true
   },
   "outputs": [
    {
     "data": {
      "text/html": [
       "<div>\n",
       "<style scoped>\n",
       "    .dataframe tbody tr th:only-of-type {\n",
       "        vertical-align: middle;\n",
       "    }\n",
       "\n",
       "    .dataframe tbody tr th {\n",
       "        vertical-align: top;\n",
       "    }\n",
       "\n",
       "    .dataframe thead th {\n",
       "        text-align: right;\n",
       "    }\n",
       "</style>\n",
       "<table border=\"1\" class=\"dataframe\">\n",
       "  <thead>\n",
       "    <tr style=\"text-align: right;\">\n",
       "      <th></th>\n",
       "      <th>product_id</th>\n",
       "      <th>product_name</th>\n",
       "    </tr>\n",
       "  </thead>\n",
       "  <tbody>\n",
       "    <tr>\n",
       "      <th>5875</th>\n",
       "      <td>5876</td>\n",
       "      <td>organic lemon</td>\n",
       "    </tr>\n",
       "    <tr>\n",
       "      <th>8276</th>\n",
       "      <td>8277</td>\n",
       "      <td>apple honeycrisp organic</td>\n",
       "    </tr>\n",
       "    <tr>\n",
       "      <th>13175</th>\n",
       "      <td>13176</td>\n",
       "      <td>bag of organic bananas</td>\n",
       "    </tr>\n",
       "    <tr>\n",
       "      <th>16796</th>\n",
       "      <td>16797</td>\n",
       "      <td>strawberries</td>\n",
       "    </tr>\n",
       "    <tr>\n",
       "      <th>21136</th>\n",
       "      <td>21137</td>\n",
       "      <td>organic strawberries</td>\n",
       "    </tr>\n",
       "    <tr>\n",
       "      <th>21902</th>\n",
       "      <td>21903</td>\n",
       "      <td>organic baby spinach</td>\n",
       "    </tr>\n",
       "    <tr>\n",
       "      <th>22934</th>\n",
       "      <td>22935</td>\n",
       "      <td>organic yellow onion</td>\n",
       "    </tr>\n",
       "    <tr>\n",
       "      <th>24851</th>\n",
       "      <td>24852</td>\n",
       "      <td>banana</td>\n",
       "    </tr>\n",
       "    <tr>\n",
       "      <th>24963</th>\n",
       "      <td>24964</td>\n",
       "      <td>organic garlic</td>\n",
       "    </tr>\n",
       "    <tr>\n",
       "      <th>26208</th>\n",
       "      <td>26209</td>\n",
       "      <td>limes</td>\n",
       "    </tr>\n",
       "    <tr>\n",
       "      <th>27844</th>\n",
       "      <td>27845</td>\n",
       "      <td>organic whole milk</td>\n",
       "    </tr>\n",
       "    <tr>\n",
       "      <th>27965</th>\n",
       "      <td>27966</td>\n",
       "      <td>organic raspberries</td>\n",
       "    </tr>\n",
       "    <tr>\n",
       "      <th>28203</th>\n",
       "      <td>28204</td>\n",
       "      <td>organic fuji apple</td>\n",
       "    </tr>\n",
       "    <tr>\n",
       "      <th>39274</th>\n",
       "      <td>39275</td>\n",
       "      <td>organic blueberries</td>\n",
       "    </tr>\n",
       "    <tr>\n",
       "      <th>40705</th>\n",
       "      <td>40706</td>\n",
       "      <td>organic grape tomatoes</td>\n",
       "    </tr>\n",
       "    <tr>\n",
       "      <th>45006</th>\n",
       "      <td>45007</td>\n",
       "      <td>organic zucchini</td>\n",
       "    </tr>\n",
       "    <tr>\n",
       "      <th>47208</th>\n",
       "      <td>47209</td>\n",
       "      <td>organic hass avocado</td>\n",
       "    </tr>\n",
       "    <tr>\n",
       "      <th>47625</th>\n",
       "      <td>47626</td>\n",
       "      <td>large lemon</td>\n",
       "    </tr>\n",
       "    <tr>\n",
       "      <th>47765</th>\n",
       "      <td>47766</td>\n",
       "      <td>organic avocado</td>\n",
       "    </tr>\n",
       "    <tr>\n",
       "      <th>49682</th>\n",
       "      <td>49683</td>\n",
       "      <td>cucumber kirby</td>\n",
       "    </tr>\n",
       "  </tbody>\n",
       "</table>\n",
       "</div>"
      ],
      "text/plain": [
       "       product_id              product_name\n",
       "5875         5876             organic lemon\n",
       "8276         8277  apple honeycrisp organic\n",
       "13175       13176    bag of organic bananas\n",
       "16796       16797              strawberries\n",
       "21136       21137      organic strawberries\n",
       "21902       21903      organic baby spinach\n",
       "22934       22935      organic yellow onion\n",
       "24851       24852                    banana\n",
       "24963       24964            organic garlic\n",
       "26208       26209                     limes\n",
       "27844       27845        organic whole milk\n",
       "27965       27966       organic raspberries\n",
       "28203       28204        organic fuji apple\n",
       "39274       39275       organic blueberries\n",
       "40705       40706    organic grape tomatoes\n",
       "45006       45007          organic zucchini\n",
       "47208       47209      organic hass avocado\n",
       "47625       47626               large lemon\n",
       "47765       47766           organic avocado\n",
       "49682       49683            cucumber kirby"
      ]
     },
     "metadata": {},
     "output_type": "display_data"
    }
   ],
   "source": [
    "pop_prod = order_products_df.groupby('product_id')['order_id'].count() # Getting the counts of each product ID\n",
    "pop_prod = pop_prod.sort_values(ascending= False) # Sorting product IDs from highest to lowest\n",
    "pop_prod = pop_prod[:20] # Taking top 20 values\n",
    "pop_prod = pop_prod.index #Changing from a Series to a list\n",
    "display(products_df.query(\"product_id in @pop_prod\")[['product_id', 'product_name']]) # Displaying the top 20 product names and IDs"
   ]
  },
  {
   "cell_type": "markdown",
   "id": "7df00f47",
   "metadata": {},
   "source": [
    "<div class=\"alert alert-success\"; style=\"border-left: 7px solid green\">\n",
    "<b>✅ Reviewer's comment, v. 1</b> \n",
    "    \n",
    "Very good."
   ]
  },
  {
   "cell_type": "markdown",
   "id": "gross-theme",
   "metadata": {},
   "source": [
    "# [C] Hard (must complete at least two to pass)"
   ]
  },
  {
   "cell_type": "markdown",
   "id": "romantic-deposit",
   "metadata": {},
   "source": [
    "### [C1] How many items do people typically buy in one order? What does the distribution look like?"
   ]
  },
  {
   "cell_type": "code",
   "execution_count": 43,
   "id": "virtual-punch",
   "metadata": {},
   "outputs": [
    {
     "name": "stdout",
     "output_type": "stream",
     "text": [
      "<class 'pandas.core.frame.DataFrame'>\n",
      "RangeIndex: 4545007 entries, 0 to 4545006\n",
      "Data columns (total 4 columns):\n",
      " #   Column             Dtype\n",
      "---  ------             -----\n",
      " 0   order_id           int64\n",
      " 1   product_id         int64\n",
      " 2   add_to_cart_order  int64\n",
      " 3   reordered          int64\n",
      "dtypes: int64(4)\n",
      "memory usage: 138.7 MB\n"
     ]
    }
   ],
   "source": [
    "order_products_df.info() # Number of each order ID with bar chart x = number of items"
   ]
  },
  {
   "cell_type": "code",
   "execution_count": 44,
   "id": "sensitive-breathing",
   "metadata": {
    "scrolled": false
   },
   "outputs": [
    {
     "data": {
      "text/html": [
       "<div>\n",
       "<style scoped>\n",
       "    .dataframe tbody tr th:only-of-type {\n",
       "        vertical-align: middle;\n",
       "    }\n",
       "\n",
       "    .dataframe tbody tr th {\n",
       "        vertical-align: top;\n",
       "    }\n",
       "\n",
       "    .dataframe thead th {\n",
       "        text-align: right;\n",
       "    }\n",
       "</style>\n",
       "<table border=\"1\" class=\"dataframe\">\n",
       "  <thead>\n",
       "    <tr style=\"text-align: right;\">\n",
       "      <th></th>\n",
       "      <th>items</th>\n",
       "      <th>count</th>\n",
       "    </tr>\n",
       "  </thead>\n",
       "  <tbody>\n",
       "    <tr>\n",
       "      <th>9</th>\n",
       "      <td>1</td>\n",
       "      <td>21847</td>\n",
       "    </tr>\n",
       "    <tr>\n",
       "      <th>6</th>\n",
       "      <td>2</td>\n",
       "      <td>26292</td>\n",
       "    </tr>\n",
       "    <tr>\n",
       "      <th>4</th>\n",
       "      <td>3</td>\n",
       "      <td>29046</td>\n",
       "    </tr>\n",
       "    <tr>\n",
       "      <th>2</th>\n",
       "      <td>4</td>\n",
       "      <td>31054</td>\n",
       "    </tr>\n",
       "    <tr>\n",
       "      <th>0</th>\n",
       "      <td>5</td>\n",
       "      <td>31923</td>\n",
       "    </tr>\n",
       "    <tr>\n",
       "      <th>...</th>\n",
       "      <td>...</td>\n",
       "      <td>...</td>\n",
       "    </tr>\n",
       "    <tr>\n",
       "      <th>81</th>\n",
       "      <td>98</td>\n",
       "      <td>1</td>\n",
       "    </tr>\n",
       "    <tr>\n",
       "      <th>83</th>\n",
       "      <td>104</td>\n",
       "      <td>1</td>\n",
       "    </tr>\n",
       "    <tr>\n",
       "      <th>82</th>\n",
       "      <td>108</td>\n",
       "      <td>1</td>\n",
       "    </tr>\n",
       "    <tr>\n",
       "      <th>84</th>\n",
       "      <td>115</td>\n",
       "      <td>1</td>\n",
       "    </tr>\n",
       "    <tr>\n",
       "      <th>89</th>\n",
       "      <td>127</td>\n",
       "      <td>1</td>\n",
       "    </tr>\n",
       "  </tbody>\n",
       "</table>\n",
       "<p>90 rows × 2 columns</p>\n",
       "</div>"
      ],
      "text/plain": [
       "    items  count\n",
       "9       1  21847\n",
       "6       2  26292\n",
       "4       3  29046\n",
       "2       4  31054\n",
       "0       5  31923\n",
       "..    ...    ...\n",
       "81     98      1\n",
       "83    104      1\n",
       "82    108      1\n",
       "84    115      1\n",
       "89    127      1\n",
       "\n",
       "[90 rows x 2 columns]"
      ]
     },
     "metadata": {},
     "output_type": "display_data"
    }
   ],
   "source": [
    "order_size = order_products_df.groupby('order_id')['product_id'].count() # Getting the counts of each product ID per order ID\n",
    "order_size = order_size.value_counts().reset_index() #Making the Series into a DataFrame\n",
    "order_size = order_size.sort_values(by='index') # Sorting product IDs from highest to lowest\n",
    "order_size.rename(columns = {'index': 'items', 'product_id':'count'}, inplace=True) # Renaming the columns\n",
    "display(order_size)"
   ]
  },
  {
   "cell_type": "code",
   "execution_count": 45,
   "id": "completed-frank",
   "metadata": {},
   "outputs": [
    {
     "data": {
      "image/png": "[encoded data removed]",
      "text/plain": [
       "<Figure size 864x576 with 1 Axes>"
      ]
     },
     "metadata": {
      "needs_background": "light"
     },
     "output_type": "display_data"
    }
   ],
   "source": [
    "order_size.plot(kind='bar',\n",
    "              x= 'items',\n",
    "              y= 'count',\n",
    "              title= 'Cart Size',\n",
    "              xlabel= 'Items per order',\n",
    "              ylabel= 'Numer of items',\n",
    "              xlim= [0, 130],\n",
    "              figsize= [12,8],\n",
    "              xticks = [0, 10, 20, 30, 40, 50, 60, 70, 80, 90, 100, 110, 120, 130],\n",
    "              legend=False\n",
    "              )\n",
    "plt.show()"
   ]
  },
  {
   "cell_type": "markdown",
   "id": "9a5ee9f1",
   "metadata": {},
   "source": [
    "The most frequestly purchased number of items per order is 5, with a fast drop off to approximately the 25 items per order at which point it declines to approximately 55 items per order being imperceptable on the graph. The highest number of items purchased in one order is 127."
   ]
  },
  {
   "cell_type": "markdown",
   "id": "designed-mortality",
   "metadata": {},
   "source": [
    "<div class=\"alert alert-success\"; style=\"border-left: 7px solid green\">\n",
    "<b>✅ Reviewer's comment, v. 1</b> \n",
    "    \n",
    "This is correct. "
   ]
  },
  {
   "cell_type": "markdown",
   "id": "5e6b5537",
   "metadata": {},
   "source": [
    "### [C2] What are the top 20 items that are reordered most frequently (display their names and product IDs)?"
   ]
  },
  {
   "cell_type": "code",
   "execution_count": 46,
   "id": "possible-change",
   "metadata": {
    "scrolled": true
   },
   "outputs": [],
   "source": [
    "reordered_prod = order_products_df.query(\"reordered == 1\") # Creating DataFrame of only reordered products"
   ]
  },
  {
   "cell_type": "code",
   "execution_count": 47,
   "id": "professional-surfing",
   "metadata": {
    "scrolled": false
   },
   "outputs": [
    {
     "data": {
      "text/html": [
       "<div>\n",
       "<style scoped>\n",
       "    .dataframe tbody tr th:only-of-type {\n",
       "        vertical-align: middle;\n",
       "    }\n",
       "\n",
       "    .dataframe tbody tr th {\n",
       "        vertical-align: top;\n",
       "    }\n",
       "\n",
       "    .dataframe thead th {\n",
       "        text-align: right;\n",
       "    }\n",
       "</style>\n",
       "<table border=\"1\" class=\"dataframe\">\n",
       "  <thead>\n",
       "    <tr style=\"text-align: right;\">\n",
       "      <th></th>\n",
       "      <th>product_id</th>\n",
       "      <th>product_name</th>\n",
       "    </tr>\n",
       "  </thead>\n",
       "  <tbody>\n",
       "    <tr>\n",
       "      <th>5875</th>\n",
       "      <td>5876</td>\n",
       "      <td>organic lemon</td>\n",
       "    </tr>\n",
       "    <tr>\n",
       "      <th>8276</th>\n",
       "      <td>8277</td>\n",
       "      <td>apple honeycrisp organic</td>\n",
       "    </tr>\n",
       "    <tr>\n",
       "      <th>13175</th>\n",
       "      <td>13176</td>\n",
       "      <td>bag of organic bananas</td>\n",
       "    </tr>\n",
       "    <tr>\n",
       "      <th>16796</th>\n",
       "      <td>16797</td>\n",
       "      <td>strawberries</td>\n",
       "    </tr>\n",
       "    <tr>\n",
       "      <th>21136</th>\n",
       "      <td>21137</td>\n",
       "      <td>organic strawberries</td>\n",
       "    </tr>\n",
       "    <tr>\n",
       "      <th>21902</th>\n",
       "      <td>21903</td>\n",
       "      <td>organic baby spinach</td>\n",
       "    </tr>\n",
       "    <tr>\n",
       "      <th>22934</th>\n",
       "      <td>22935</td>\n",
       "      <td>organic yellow onion</td>\n",
       "    </tr>\n",
       "    <tr>\n",
       "      <th>24851</th>\n",
       "      <td>24852</td>\n",
       "      <td>banana</td>\n",
       "    </tr>\n",
       "    <tr>\n",
       "      <th>24963</th>\n",
       "      <td>24964</td>\n",
       "      <td>organic garlic</td>\n",
       "    </tr>\n",
       "    <tr>\n",
       "      <th>26208</th>\n",
       "      <td>26209</td>\n",
       "      <td>limes</td>\n",
       "    </tr>\n",
       "    <tr>\n",
       "      <th>27844</th>\n",
       "      <td>27845</td>\n",
       "      <td>organic whole milk</td>\n",
       "    </tr>\n",
       "    <tr>\n",
       "      <th>27965</th>\n",
       "      <td>27966</td>\n",
       "      <td>organic raspberries</td>\n",
       "    </tr>\n",
       "    <tr>\n",
       "      <th>28203</th>\n",
       "      <td>28204</td>\n",
       "      <td>organic fuji apple</td>\n",
       "    </tr>\n",
       "    <tr>\n",
       "      <th>39274</th>\n",
       "      <td>39275</td>\n",
       "      <td>organic blueberries</td>\n",
       "    </tr>\n",
       "    <tr>\n",
       "      <th>45006</th>\n",
       "      <td>45007</td>\n",
       "      <td>organic zucchini</td>\n",
       "    </tr>\n",
       "    <tr>\n",
       "      <th>47208</th>\n",
       "      <td>47209</td>\n",
       "      <td>organic hass avocado</td>\n",
       "    </tr>\n",
       "    <tr>\n",
       "      <th>47625</th>\n",
       "      <td>47626</td>\n",
       "      <td>large lemon</td>\n",
       "    </tr>\n",
       "    <tr>\n",
       "      <th>47765</th>\n",
       "      <td>47766</td>\n",
       "      <td>organic avocado</td>\n",
       "    </tr>\n",
       "    <tr>\n",
       "      <th>49234</th>\n",
       "      <td>49235</td>\n",
       "      <td>organic half &amp; half</td>\n",
       "    </tr>\n",
       "    <tr>\n",
       "      <th>49682</th>\n",
       "      <td>49683</td>\n",
       "      <td>cucumber kirby</td>\n",
       "    </tr>\n",
       "  </tbody>\n",
       "</table>\n",
       "</div>"
      ],
      "text/plain": [
       "       product_id              product_name\n",
       "5875         5876             organic lemon\n",
       "8276         8277  apple honeycrisp organic\n",
       "13175       13176    bag of organic bananas\n",
       "16796       16797              strawberries\n",
       "21136       21137      organic strawberries\n",
       "21902       21903      organic baby spinach\n",
       "22934       22935      organic yellow onion\n",
       "24851       24852                    banana\n",
       "24963       24964            organic garlic\n",
       "26208       26209                     limes\n",
       "27844       27845        organic whole milk\n",
       "27965       27966       organic raspberries\n",
       "28203       28204        organic fuji apple\n",
       "39274       39275       organic blueberries\n",
       "45006       45007          organic zucchini\n",
       "47208       47209      organic hass avocado\n",
       "47625       47626               large lemon\n",
       "47765       47766           organic avocado\n",
       "49234       49235       organic half & half\n",
       "49682       49683            cucumber kirby"
      ]
     },
     "metadata": {},
     "output_type": "display_data"
    }
   ],
   "source": [
    "reord_prod = reordered_prod.groupby('product_id')['order_id'].count() # Getting the counts of each product ID from the reordered DataFrame\n",
    "reord_prod = reord_prod.sort_values(ascending= False) # Sorting product IDs from highest to lowest\n",
    "reord_prod = reord_prod[:20] # Taking top 20 values\n",
    "pop_prod = reord_prod.index #Changing from a Series to a list\n",
    "display(products_df.query(\"product_id in @pop_prod\")[['product_id', 'product_name']]) # Displaying the top 20 reordered product names and IDs"
   ]
  },
  {
   "cell_type": "markdown",
   "id": "0434fa99",
   "metadata": {},
   "source": [
    "<div class=\"alert alert-danger\"; style=\"border-left: 7px solid red\">\n",
    "<b>⛔️ Reviewer's comment, v. 1</b> \n",
    "\n",
    "<a class=\"tocSkip\"></a><s>You need to select the products that have IDs that you saved in `pop_prod`, not `reord_prod`."
   ]
  },
  {
   "cell_type": "markdown",
   "id": "7ff2b020",
   "metadata": {},
   "source": [
    "The top 20 reordered items looks nearly identical to the top 20 products from all orders. Logically speaking, it would be unusual for the top 20 reordered products to differ greatly from the top 20 products as a whole without significant outliers that would have to come from a single one-time order."
   ]
  },
  {
   "cell_type": "markdown",
   "id": "94e8dc12",
   "metadata": {},
   "source": [
    "<div class=\"alert alert-info\"; style=\"border-left: 7px solid blue\">\n",
    "<b>Student's comment, v. 1</b>\n",
    "    <div>Corrected the table along with the analysis. It does make more sense being very similar especially with later findings in this project.\n",
    "    \n",
    "<div class=\"alert alert-success\"; style=\"border-left: 7px solid green\">\n",
    "<b>✅ Reviewer's comment, v. 2</b> \n",
    "    \n",
    "Now, everything looks fine and logical )</div>"
   ]
  },
  {
   "cell_type": "markdown",
   "id": "80e70c74",
   "metadata": {},
   "source": []
  },
  {
   "cell_type": "markdown",
   "id": "9d312b14",
   "metadata": {},
   "source": [
    "### [C3] For each product, what proportion of its orders are reorders?"
   ]
  },
  {
   "cell_type": "code",
   "execution_count": 48,
   "id": "social-individual",
   "metadata": {
    "scrolled": false
   },
   "outputs": [
    {
     "data": {
      "text/html": [
       "<div>\n",
       "<style scoped>\n",
       "    .dataframe tbody tr th:only-of-type {\n",
       "        vertical-align: middle;\n",
       "    }\n",
       "\n",
       "    .dataframe tbody tr th {\n",
       "        vertical-align: top;\n",
       "    }\n",
       "\n",
       "    .dataframe thead th {\n",
       "        text-align: right;\n",
       "    }\n",
       "</style>\n",
       "<table border=\"1\" class=\"dataframe\">\n",
       "  <thead>\n",
       "    <tr style=\"text-align: right;\">\n",
       "      <th></th>\n",
       "      <th>product_name</th>\n",
       "      <th>product_id</th>\n",
       "      <th>sold_count</th>\n",
       "      <th>resold_count</th>\n",
       "      <th>proportion_percent</th>\n",
       "    </tr>\n",
       "  </thead>\n",
       "  <tbody>\n",
       "    <tr>\n",
       "      <th>0</th>\n",
       "      <td>chocolate sandwich cookies</td>\n",
       "      <td>1</td>\n",
       "      <td>280</td>\n",
       "      <td>158.0</td>\n",
       "      <td>56.43</td>\n",
       "    </tr>\n",
       "    <tr>\n",
       "      <th>1</th>\n",
       "      <td>all-seasons salt</td>\n",
       "      <td>2</td>\n",
       "      <td>11</td>\n",
       "      <td>0.0</td>\n",
       "      <td>0.00</td>\n",
       "    </tr>\n",
       "    <tr>\n",
       "      <th>2</th>\n",
       "      <td>robust golden unsweetened oolong tea</td>\n",
       "      <td>3</td>\n",
       "      <td>42</td>\n",
       "      <td>31.0</td>\n",
       "      <td>73.81</td>\n",
       "    </tr>\n",
       "    <tr>\n",
       "      <th>3</th>\n",
       "      <td>smart ones classic favorites mini rigatoni wit...</td>\n",
       "      <td>4</td>\n",
       "      <td>49</td>\n",
       "      <td>25.0</td>\n",
       "      <td>51.02</td>\n",
       "    </tr>\n",
       "    <tr>\n",
       "      <th>4</th>\n",
       "      <td>pure coconut water with orange</td>\n",
       "      <td>7</td>\n",
       "      <td>2</td>\n",
       "      <td>1.0</td>\n",
       "      <td>50.00</td>\n",
       "    </tr>\n",
       "    <tr>\n",
       "      <th>...</th>\n",
       "      <td>...</td>\n",
       "      <td>...</td>\n",
       "      <td>...</td>\n",
       "      <td>...</td>\n",
       "      <td>...</td>\n",
       "    </tr>\n",
       "    <tr>\n",
       "      <th>45568</th>\n",
       "      <td>high performance energy drink</td>\n",
       "      <td>49690</td>\n",
       "      <td>5</td>\n",
       "      <td>4.0</td>\n",
       "      <td>80.00</td>\n",
       "    </tr>\n",
       "    <tr>\n",
       "      <th>45569</th>\n",
       "      <td>original pancake &amp; waffle mix</td>\n",
       "      <td>49691</td>\n",
       "      <td>72</td>\n",
       "      <td>31.0</td>\n",
       "      <td>43.06</td>\n",
       "    </tr>\n",
       "    <tr>\n",
       "      <th>45570</th>\n",
       "      <td>organic instant oatmeal light maple brown sugar</td>\n",
       "      <td>49692</td>\n",
       "      <td>12</td>\n",
       "      <td>5.0</td>\n",
       "      <td>41.67</td>\n",
       "    </tr>\n",
       "    <tr>\n",
       "      <th>45571</th>\n",
       "      <td>spring water body wash</td>\n",
       "      <td>49693</td>\n",
       "      <td>25</td>\n",
       "      <td>11.0</td>\n",
       "      <td>44.00</td>\n",
       "    </tr>\n",
       "    <tr>\n",
       "      <th>45572</th>\n",
       "      <td>burrito- steak &amp; cheese</td>\n",
       "      <td>49694</td>\n",
       "      <td>9</td>\n",
       "      <td>3.0</td>\n",
       "      <td>33.33</td>\n",
       "    </tr>\n",
       "  </tbody>\n",
       "</table>\n",
       "<p>45573 rows × 5 columns</p>\n",
       "</div>"
      ],
      "text/plain": [
       "                                            product_name  product_id  \\\n",
       "0                             chocolate sandwich cookies           1   \n",
       "1                                       all-seasons salt           2   \n",
       "2                   robust golden unsweetened oolong tea           3   \n",
       "3      smart ones classic favorites mini rigatoni wit...           4   \n",
       "4                         pure coconut water with orange           7   \n",
       "...                                                  ...         ...   \n",
       "45568                      high performance energy drink       49690   \n",
       "45569                      original pancake & waffle mix       49691   \n",
       "45570    organic instant oatmeal light maple brown sugar       49692   \n",
       "45571                             spring water body wash       49693   \n",
       "45572                            burrito- steak & cheese       49694   \n",
       "\n",
       "       sold_count  resold_count  proportion_percent  \n",
       "0             280         158.0               56.43  \n",
       "1              11           0.0                0.00  \n",
       "2              42          31.0               73.81  \n",
       "3              49          25.0               51.02  \n",
       "4               2           1.0               50.00  \n",
       "...           ...           ...                 ...  \n",
       "45568           5           4.0               80.00  \n",
       "45569          72          31.0               43.06  \n",
       "45570          12           5.0               41.67  \n",
       "45571          25          11.0               44.00  \n",
       "45572           9           3.0               33.33  \n",
       "\n",
       "[45573 rows x 5 columns]"
      ]
     },
     "metadata": {},
     "output_type": "display_data"
    }
   ],
   "source": [
    "products_sold = order_products_df.groupby('product_id')['order_id'].count() # Getting a count of each product sold\n",
    "products_sold = products_sold.reset_index() # Turning Series into DataFrame\n",
    "products_sold.rename(columns = {'order_id': 'sold_count'}, inplace=True) # Renaming column\n",
    "\n",
    "products_resold = reordered_prod.groupby('product_id')['order_id'].count() # Getting a count of each product resold\n",
    "products_resold = products_resold.reset_index() # Turning Series into DataFrame\n",
    "products_resold.rename(columns = {'order_id': 'resold_count'}, inplace=True) # Renaming column\n",
    "\n",
    "sold_resold = products_sold.merge(products_resold, on= 'product_id', how= 'outer') # Merging sold and resold products to one DF\n",
    "\n",
    "sold_resold['proportion_percent'] = round(sold_resold['resold_count'] / sold_resold['sold_count'] * 100, 2) # Creating a column with the percentage, rounded to 2 decimal places, of the proportion of sales that are reorders compared to all orders for each item\n",
    "sold_resold = sold_resold.fillna(0) # Replacing missing values with 0 to reflect no items resold\n",
    "\n",
    "prod_lite = products_df.drop(['aisle_id', 'department_id'], axis=1) # Removing unneeded columns and saving new DataFrame\n",
    "sold_resold = sold_resold.merge(prod_lite, on='product_id', how= 'left') # Merging the DataFrames to add product names to sold_resold\n",
    "sold_resold = sold_resold.iloc[:, [4,0,1,2,3]] # Reordering the columns to have product name before product ID for presentation purposes\n",
    "display(sold_resold)"
   ]
  },
  {
   "cell_type": "markdown",
   "id": "0807ad7b",
   "metadata": {},
   "source": [
    "The DataFrame above contains all the percentages of resold to sold items sorted by the product ID and name."
   ]
  },
  {
   "cell_type": "markdown",
   "id": "02510d8b",
   "metadata": {},
   "source": [
    "<div class=\"alert alert-warning\"; style=\"border-left: 7px solid gold\">\n",
    "<b>⚠️ Reviewer's comment, v. 1</b> \n",
    "\n",
    "While you calculated correctly, there is a simpler way to find to do that. If you group the dataframe by order ID and calculate the mean of `reordered` column, this will be your reorder rate. "
   ]
  },
  {
   "cell_type": "markdown",
   "id": "f700e8ef",
   "metadata": {},
   "source": [
    "<div class=\"alert alert-danger\"; style=\"border-left: 7px solid red\">\n",
    "<b>⛔️ Reviewer's comment, v. 1</b> \n",
    "\n",
    "Could you please add the product names to the datagframe?"
   ]
  },
  {
   "cell_type": "markdown",
   "id": "4c375809",
   "metadata": {},
   "source": [
    "<div class=\"alert alert-info\"; style=\"border-left: 7px solid blue\">\n",
    "<b>Student's comment, v. 1</b>\n",
    "    <div>Added the product names and reordered the DataFrame for better presentation (because having the product names as the rightmost column would have looked odd).\n",
    "    \n",
    "<div class=\"alert alert-success\"; style=\"border-left: 7px solid green\">\n",
    "<b>✅ Reviewer's comment, v. 2</b> \n",
    "    \n",
    "Indeed, looks better this way. And I'm showing to you below how to get the same data in a simpler way. Hope this is useful:</div>"
   ]
  },
  {
   "cell_type": "code",
   "execution_count": 55,
   "id": "0ce5d067",
   "metadata": {},
   "outputs": [
    {
     "data": {
      "text/html": [
       "<style  type=\"text/css\" >\n",
       "</style><table id=\"T_cd40b_\" ><thead>    <tr>        <th class=\"blank level0\" ></th>        <th class=\"col_heading level0 col0\" >product_name</th>        <th class=\"col_heading level0 col1\" >product_id</th>        <th class=\"col_heading level0 col2\" >reordered</th>    </tr></thead><tbody>\n",
       "                <tr>\n",
       "                        <th id=\"T_cd40b_level0_row0\" class=\"row_heading level0 row0\" >0</th>\n",
       "                        <td id=\"T_cd40b_row0_col0\" class=\"data row0 col0\" >chocolate sandwich cookies</td>\n",
       "                        <td id=\"T_cd40b_row0_col1\" class=\"data row0 col1\" >1</td>\n",
       "                        <td id=\"T_cd40b_row0_col2\" class=\"data row0 col2\" >56%</td>\n",
       "            </tr>\n",
       "            <tr>\n",
       "                        <th id=\"T_cd40b_level0_row1\" class=\"row_heading level0 row1\" >1</th>\n",
       "                        <td id=\"T_cd40b_row1_col0\" class=\"data row1 col0\" >all-seasons salt</td>\n",
       "                        <td id=\"T_cd40b_row1_col1\" class=\"data row1 col1\" >2</td>\n",
       "                        <td id=\"T_cd40b_row1_col2\" class=\"data row1 col2\" >0%</td>\n",
       "            </tr>\n",
       "            <tr>\n",
       "                        <th id=\"T_cd40b_level0_row2\" class=\"row_heading level0 row2\" >2</th>\n",
       "                        <td id=\"T_cd40b_row2_col0\" class=\"data row2 col0\" >robust golden unsweetened oolong tea</td>\n",
       "                        <td id=\"T_cd40b_row2_col1\" class=\"data row2 col1\" >3</td>\n",
       "                        <td id=\"T_cd40b_row2_col2\" class=\"data row2 col2\" >74%</td>\n",
       "            </tr>\n",
       "            <tr>\n",
       "                        <th id=\"T_cd40b_level0_row3\" class=\"row_heading level0 row3\" >3</th>\n",
       "                        <td id=\"T_cd40b_row3_col0\" class=\"data row3 col0\" >smart ones classic favorites mini rigatoni with vodka cream sauce</td>\n",
       "                        <td id=\"T_cd40b_row3_col1\" class=\"data row3 col1\" >4</td>\n",
       "                        <td id=\"T_cd40b_row3_col2\" class=\"data row3 col2\" >51%</td>\n",
       "            </tr>\n",
       "            <tr>\n",
       "                        <th id=\"T_cd40b_level0_row4\" class=\"row_heading level0 row4\" >4</th>\n",
       "                        <td id=\"T_cd40b_row4_col0\" class=\"data row4 col0\" >pure coconut water with orange</td>\n",
       "                        <td id=\"T_cd40b_row4_col1\" class=\"data row4 col1\" >7</td>\n",
       "                        <td id=\"T_cd40b_row4_col2\" class=\"data row4 col2\" >50%</td>\n",
       "            </tr>\n",
       "            <tr>\n",
       "                        <th id=\"T_cd40b_level0_row5\" class=\"row_heading level0 row5\" >5</th>\n",
       "                        <td id=\"T_cd40b_row5_col0\" class=\"data row5 col0\" >cut russet potatoes steam n' mash</td>\n",
       "                        <td id=\"T_cd40b_row5_col1\" class=\"data row5 col1\" >8</td>\n",
       "                        <td id=\"T_cd40b_row5_col2\" class=\"data row5 col2\" >32%</td>\n",
       "            </tr>\n",
       "            <tr>\n",
       "                        <th id=\"T_cd40b_level0_row6\" class=\"row_heading level0 row6\" >6</th>\n",
       "                        <td id=\"T_cd40b_row6_col0\" class=\"data row6 col0\" >light strawberry blueberry yogurt</td>\n",
       "                        <td id=\"T_cd40b_row6_col1\" class=\"data row6 col1\" >9</td>\n",
       "                        <td id=\"T_cd40b_row6_col2\" class=\"data row6 col2\" >76%</td>\n",
       "            </tr>\n",
       "            <tr>\n",
       "                        <th id=\"T_cd40b_level0_row7\" class=\"row_heading level0 row7\" >7</th>\n",
       "                        <td id=\"T_cd40b_row7_col0\" class=\"data row7 col0\" >sparkling orange juice & prickly pear beverage</td>\n",
       "                        <td id=\"T_cd40b_row7_col1\" class=\"data row7 col1\" >10</td>\n",
       "                        <td id=\"T_cd40b_row7_col2\" class=\"data row7 col2\" >45%</td>\n",
       "            </tr>\n",
       "            <tr>\n",
       "                        <th id=\"T_cd40b_level0_row8\" class=\"row_heading level0 row8\" >8</th>\n",
       "                        <td id=\"T_cd40b_row8_col0\" class=\"data row8 col0\" >peach mango juice</td>\n",
       "                        <td id=\"T_cd40b_row8_col1\" class=\"data row8 col1\" >11</td>\n",
       "                        <td id=\"T_cd40b_row8_col2\" class=\"data row8 col2\" >62%</td>\n",
       "            </tr>\n",
       "            <tr>\n",
       "                        <th id=\"T_cd40b_level0_row9\" class=\"row_heading level0 row9\" >9</th>\n",
       "                        <td id=\"T_cd40b_row9_col0\" class=\"data row9 col0\" >chocolate fudge layer cake</td>\n",
       "                        <td id=\"T_cd40b_row9_col1\" class=\"data row9 col1\" >12</td>\n",
       "                        <td id=\"T_cd40b_row9_col2\" class=\"data row9 col2\" >39%</td>\n",
       "            </tr>\n",
       "            <tr>\n",
       "                        <th id=\"T_cd40b_level0_row10\" class=\"row_heading level0 row10\" >10</th>\n",
       "                        <td id=\"T_cd40b_row10_col0\" class=\"data row10 col0\" >saline nasal mist</td>\n",
       "                        <td id=\"T_cd40b_row10_col1\" class=\"data row10 col1\" >13</td>\n",
       "                        <td id=\"T_cd40b_row10_col2\" class=\"data row10 col2\" >50%</td>\n",
       "            </tr>\n",
       "            <tr>\n",
       "                        <th id=\"T_cd40b_level0_row11\" class=\"row_heading level0 row11\" >11</th>\n",
       "                        <td id=\"T_cd40b_row11_col0\" class=\"data row11 col0\" >fresh scent dishwasher cleaner</td>\n",
       "                        <td id=\"T_cd40b_row11_col1\" class=\"data row11 col1\" >14</td>\n",
       "                        <td id=\"T_cd40b_row11_col2\" class=\"data row11 col2\" >0%</td>\n",
       "            </tr>\n",
       "            <tr>\n",
       "                        <th id=\"T_cd40b_level0_row12\" class=\"row_heading level0 row12\" >12</th>\n",
       "                        <td id=\"T_cd40b_row12_col0\" class=\"data row12 col0\" >rendered duck fat</td>\n",
       "                        <td id=\"T_cd40b_row12_col1\" class=\"data row12 col1\" >17</td>\n",
       "                        <td id=\"T_cd40b_row12_col2\" class=\"data row12 col2\" >0%</td>\n",
       "            </tr>\n",
       "            <tr>\n",
       "                        <th id=\"T_cd40b_level0_row13\" class=\"row_heading level0 row13\" >13</th>\n",
       "                        <td id=\"T_cd40b_row13_col0\" class=\"data row13 col0\" >pizza for one suprema  frozen pizza</td>\n",
       "                        <td id=\"T_cd40b_row13_col1\" class=\"data row13 col1\" >18</td>\n",
       "                        <td id=\"T_cd40b_row13_col2\" class=\"data row13 col2\" >53%</td>\n",
       "            </tr>\n",
       "            <tr>\n",
       "                        <th id=\"T_cd40b_level0_row14\" class=\"row_heading level0 row14\" >14</th>\n",
       "                        <td id=\"T_cd40b_row14_col0\" class=\"data row14 col0\" >gluten free quinoa three cheese & mushroom blend</td>\n",
       "                        <td id=\"T_cd40b_row14_col1\" class=\"data row14 col1\" >19</td>\n",
       "                        <td id=\"T_cd40b_row14_col2\" class=\"data row14 col2\" >0%</td>\n",
       "            </tr>\n",
       "            <tr>\n",
       "                        <th id=\"T_cd40b_level0_row15\" class=\"row_heading level0 row15\" >15</th>\n",
       "                        <td id=\"T_cd40b_row15_col0\" class=\"data row15 col0\" >small & medium dental dog treats</td>\n",
       "                        <td id=\"T_cd40b_row15_col1\" class=\"data row15 col1\" >21</td>\n",
       "                        <td id=\"T_cd40b_row15_col2\" class=\"data row15 col2\" >0%</td>\n",
       "            </tr>\n",
       "            <tr>\n",
       "                        <th id=\"T_cd40b_level0_row16\" class=\"row_heading level0 row16\" >16</th>\n",
       "                        <td id=\"T_cd40b_row16_col0\" class=\"data row16 col0\" >fresh breath oral rinse mild mint</td>\n",
       "                        <td id=\"T_cd40b_row16_col1\" class=\"data row16 col1\" >22</td>\n",
       "                        <td id=\"T_cd40b_row16_col2\" class=\"data row16 col2\" >50%</td>\n",
       "            </tr>\n",
       "            <tr>\n",
       "                        <th id=\"T_cd40b_level0_row17\" class=\"row_heading level0 row17\" >17</th>\n",
       "                        <td id=\"T_cd40b_row17_col0\" class=\"data row17 col0\" >organic turkey burgers</td>\n",
       "                        <td id=\"T_cd40b_row17_col1\" class=\"data row17 col1\" >23</td>\n",
       "                        <td id=\"T_cd40b_row17_col2\" class=\"data row17 col2\" >38%</td>\n",
       "            </tr>\n",
       "            <tr>\n",
       "                        <th id=\"T_cd40b_level0_row18\" class=\"row_heading level0 row18\" >18</th>\n",
       "                        <td id=\"T_cd40b_row18_col0\" class=\"data row18 col0\" >tri-vi-sol® vitamins a-c-and d supplement drops for infants</td>\n",
       "                        <td id=\"T_cd40b_row18_col1\" class=\"data row18 col1\" >24</td>\n",
       "                        <td id=\"T_cd40b_row18_col2\" class=\"data row18 col2\" >0%</td>\n",
       "            </tr>\n",
       "            <tr>\n",
       "                        <th id=\"T_cd40b_level0_row19\" class=\"row_heading level0 row19\" >19</th>\n",
       "                        <td id=\"T_cd40b_row19_col0\" class=\"data row19 col0\" >salted caramel lean protein & fiber bar</td>\n",
       "                        <td id=\"T_cd40b_row19_col1\" class=\"data row19 col1\" >25</td>\n",
       "                        <td id=\"T_cd40b_row19_col2\" class=\"data row19 col2\" >67%</td>\n",
       "            </tr>\n",
       "    </tbody></table>"
      ],
      "text/plain": [
       "<pandas.io.formats.style.Styler at 0x7f14765806a0>"
      ]
     },
     "execution_count": 55,
     "metadata": {},
     "output_type": "execute_result"
    }
   ],
   "source": [
    "#Reviewer's code\n",
    "\n",
    "df_merge = order_products_df.merge(products_df)\n",
    "reorder_rate = df_merge.groupby(['product_name', 'product_id'])['reordered'].mean().reset_index()\n",
    "\n",
    "reorder_rate_as_df = reorder_rate.sort_values(by='product_id').reset_index(drop=True)\n",
    "reorder_rate_as_df.head(20).style.format({'reordered': '{:.0%}'}) # setting the format of reordered column as % without decimal"
   ]
  },
  {
   "cell_type": "code",
   "execution_count": 50,
   "id": "ffda8ff7",
   "metadata": {},
   "outputs": [
    {
     "data": {
      "text/html": [
       "<div>\n",
       "<style scoped>\n",
       "    .dataframe tbody tr th:only-of-type {\n",
       "        vertical-align: middle;\n",
       "    }\n",
       "\n",
       "    .dataframe tbody tr th {\n",
       "        vertical-align: top;\n",
       "    }\n",
       "\n",
       "    .dataframe thead th {\n",
       "        text-align: right;\n",
       "    }\n",
       "</style>\n",
       "<table border=\"1\" class=\"dataframe\">\n",
       "  <thead>\n",
       "    <tr style=\"text-align: right;\">\n",
       "      <th></th>\n",
       "      <th>product_name</th>\n",
       "      <th>product_id</th>\n",
       "      <th>reordered</th>\n",
       "    </tr>\n",
       "  </thead>\n",
       "  <tbody>\n",
       "    <tr>\n",
       "      <th>0</th>\n",
       "      <td>chocolate sandwich cookies</td>\n",
       "      <td>1</td>\n",
       "      <td>0.564286</td>\n",
       "    </tr>\n",
       "    <tr>\n",
       "      <th>1</th>\n",
       "      <td>all-seasons salt</td>\n",
       "      <td>2</td>\n",
       "      <td>0.000000</td>\n",
       "    </tr>\n",
       "    <tr>\n",
       "      <th>2</th>\n",
       "      <td>robust golden unsweetened oolong tea</td>\n",
       "      <td>3</td>\n",
       "      <td>0.738095</td>\n",
       "    </tr>\n",
       "    <tr>\n",
       "      <th>3</th>\n",
       "      <td>smart ones classic favorites mini rigatoni wit...</td>\n",
       "      <td>4</td>\n",
       "      <td>0.510204</td>\n",
       "    </tr>\n",
       "    <tr>\n",
       "      <th>4</th>\n",
       "      <td>pure coconut water with orange</td>\n",
       "      <td>7</td>\n",
       "      <td>0.500000</td>\n",
       "    </tr>\n",
       "  </tbody>\n",
       "</table>\n",
       "</div>"
      ],
      "text/plain": [
       "                                        product_name  product_id  reordered\n",
       "0                         chocolate sandwich cookies           1   0.564286\n",
       "1                                   all-seasons salt           2   0.000000\n",
       "2               robust golden unsweetened oolong tea           3   0.738095\n",
       "3  smart ones classic favorites mini rigatoni wit...           4   0.510204\n",
       "4                     pure coconut water with orange           7   0.500000"
      ]
     },
     "execution_count": 50,
     "metadata": {},
     "output_type": "execute_result"
    }
   ],
   "source": [
    "reorder_rate_as_df.head()"
   ]
  },
  {
   "cell_type": "code",
   "execution_count": 51,
   "id": "30601538",
   "metadata": {
    "scrolled": false
   },
   "outputs": [
    {
     "data": {
      "image/png": "[encoded data removed]",
      "text/plain": [
       "<Figure size 864x576 with 1 Axes>"
      ]
     },
     "metadata": {
      "needs_background": "light"
     },
     "output_type": "display_data"
    }
   ],
   "source": [
    "sold_resold.plot(kind='scatter',\n",
    "                 x= 'sold_count',\n",
    "                 y= 'resold_count',\n",
    "                 title= 'Frequency of Reorders',\n",
    "                 xlabel= 'Total sold of each item',\n",
    "                 ylabel= 'Total resold of each item',\n",
    "                 figsize= [12,8],\n",
    "                 alpha= .6,\n",
    "                 legend=False\n",
    "              )\n",
    "plt.show()"
   ]
  },
  {
   "cell_type": "code",
   "execution_count": 52,
   "id": "929b02c9",
   "metadata": {},
   "outputs": [
    {
     "data": {
      "text/plain": [
       "0.9915335581571251"
      ]
     },
     "metadata": {},
     "output_type": "display_data"
    }
   ],
   "source": [
    "display(sold_resold['sold_count'].corr(sold_resold['resold_count']))"
   ]
  },
  {
   "cell_type": "markdown",
   "id": "193b5a31",
   "metadata": {},
   "source": [
    "The Pearson correlation coefficient when comparing the number of sold items to the same items resold, is 0.99 indicating a strong positive correlation. It can be concluded that the more an item is sold, the more often the same item is resold. Meaning there are very few items that are purchased only once by a customer, and those that are are few compared to the sample as a whole."
   ]
  },
  {
   "cell_type": "markdown",
   "id": "4eb0b777",
   "metadata": {},
   "source": [
    "<div class=\"alert alert-success\"; style=\"border-left: 7px solid green\">\n",
    "<b>✅ Reviewer's comment, v. 1</b> \n",
    "    \n",
    "Very interesting observation."
   ]
  },
  {
   "cell_type": "markdown",
   "id": "subject-boxing",
   "metadata": {},
   "source": [
    "### [C4] For each customer, what proportion of their products ordered are reorders?"
   ]
  },
  {
   "cell_type": "code",
   "execution_count": null,
   "id": "8ba5194b",
   "metadata": {},
   "outputs": [],
   "source": []
  },
  {
   "cell_type": "code",
   "execution_count": null,
   "id": "24ecd72c",
   "metadata": {},
   "outputs": [],
   "source": []
  },
  {
   "cell_type": "code",
   "execution_count": null,
   "id": "05a2dee6",
   "metadata": {},
   "outputs": [],
   "source": []
  },
  {
   "cell_type": "code",
   "execution_count": null,
   "id": "78df91b8",
   "metadata": {},
   "outputs": [],
   "source": []
  },
  {
   "cell_type": "markdown",
   "id": "92d35137",
   "metadata": {},
   "source": [
    "### [C5] What are the top 20 items that people put in their carts first? "
   ]
  },
  {
   "cell_type": "code",
   "execution_count": 53,
   "id": "forty-netherlands",
   "metadata": {
    "scrolled": true
   },
   "outputs": [],
   "source": [
    "first_products = order_products_df.query(\"add_to_cart_order == 1\") # Creating DataFrame of only the products ordered first"
   ]
  },
  {
   "cell_type": "code",
   "execution_count": 54,
   "id": "08e41ec2",
   "metadata": {
    "scrolled": true
   },
   "outputs": [
    {
     "data": {
      "text/html": [
       "<div>\n",
       "<style scoped>\n",
       "    .dataframe tbody tr th:only-of-type {\n",
       "        vertical-align: middle;\n",
       "    }\n",
       "\n",
       "    .dataframe tbody tr th {\n",
       "        vertical-align: top;\n",
       "    }\n",
       "\n",
       "    .dataframe thead th {\n",
       "        text-align: right;\n",
       "    }\n",
       "</style>\n",
       "<table border=\"1\" class=\"dataframe\">\n",
       "  <thead>\n",
       "    <tr style=\"text-align: right;\">\n",
       "      <th></th>\n",
       "      <th>product_id</th>\n",
       "      <th>product_name</th>\n",
       "    </tr>\n",
       "  </thead>\n",
       "  <tbody>\n",
       "    <tr>\n",
       "      <th>195</th>\n",
       "      <td>196</td>\n",
       "      <td>soda</td>\n",
       "    </tr>\n",
       "    <tr>\n",
       "      <th>5784</th>\n",
       "      <td>5785</td>\n",
       "      <td>organic reduced fat 2% milk</td>\n",
       "    </tr>\n",
       "    <tr>\n",
       "      <th>12340</th>\n",
       "      <td>12341</td>\n",
       "      <td>hass avocados</td>\n",
       "    </tr>\n",
       "    <tr>\n",
       "      <th>13175</th>\n",
       "      <td>13176</td>\n",
       "      <td>bag of organic bananas</td>\n",
       "    </tr>\n",
       "    <tr>\n",
       "      <th>16796</th>\n",
       "      <td>16797</td>\n",
       "      <td>strawberries</td>\n",
       "    </tr>\n",
       "    <tr>\n",
       "      <th>19659</th>\n",
       "      <td>19660</td>\n",
       "      <td>spring water</td>\n",
       "    </tr>\n",
       "    <tr>\n",
       "      <th>21136</th>\n",
       "      <td>21137</td>\n",
       "      <td>organic strawberries</td>\n",
       "    </tr>\n",
       "    <tr>\n",
       "      <th>21902</th>\n",
       "      <td>21903</td>\n",
       "      <td>organic baby spinach</td>\n",
       "    </tr>\n",
       "    <tr>\n",
       "      <th>24851</th>\n",
       "      <td>24852</td>\n",
       "      <td>banana</td>\n",
       "    </tr>\n",
       "    <tr>\n",
       "      <th>26208</th>\n",
       "      <td>26209</td>\n",
       "      <td>limes</td>\n",
       "    </tr>\n",
       "    <tr>\n",
       "      <th>27085</th>\n",
       "      <td>27086</td>\n",
       "      <td>half &amp; half</td>\n",
       "    </tr>\n",
       "    <tr>\n",
       "      <th>27844</th>\n",
       "      <td>27845</td>\n",
       "      <td>organic whole milk</td>\n",
       "    </tr>\n",
       "    <tr>\n",
       "      <th>27965</th>\n",
       "      <td>27966</td>\n",
       "      <td>organic raspberries</td>\n",
       "    </tr>\n",
       "    <tr>\n",
       "      <th>38688</th>\n",
       "      <td>38689</td>\n",
       "      <td>organic reduced fat milk</td>\n",
       "    </tr>\n",
       "    <tr>\n",
       "      <th>43351</th>\n",
       "      <td>43352</td>\n",
       "      <td>raspberries</td>\n",
       "    </tr>\n",
       "    <tr>\n",
       "      <th>44631</th>\n",
       "      <td>44632</td>\n",
       "      <td>sparkling water grapefruit</td>\n",
       "    </tr>\n",
       "    <tr>\n",
       "      <th>47208</th>\n",
       "      <td>47209</td>\n",
       "      <td>organic hass avocado</td>\n",
       "    </tr>\n",
       "    <tr>\n",
       "      <th>47625</th>\n",
       "      <td>47626</td>\n",
       "      <td>large lemon</td>\n",
       "    </tr>\n",
       "    <tr>\n",
       "      <th>47765</th>\n",
       "      <td>47766</td>\n",
       "      <td>organic avocado</td>\n",
       "    </tr>\n",
       "    <tr>\n",
       "      <th>49234</th>\n",
       "      <td>49235</td>\n",
       "      <td>organic half &amp; half</td>\n",
       "    </tr>\n",
       "  </tbody>\n",
       "</table>\n",
       "</div>"
      ],
      "text/plain": [
       "       product_id                 product_name\n",
       "195           196                         soda\n",
       "5784         5785  organic reduced fat 2% milk\n",
       "12340       12341                hass avocados\n",
       "13175       13176       bag of organic bananas\n",
       "16796       16797                 strawberries\n",
       "19659       19660                 spring water\n",
       "21136       21137         organic strawberries\n",
       "21902       21903         organic baby spinach\n",
       "24851       24852                       banana\n",
       "26208       26209                        limes\n",
       "27085       27086                  half & half\n",
       "27844       27845           organic whole milk\n",
       "27965       27966          organic raspberries\n",
       "38688       38689     organic reduced fat milk\n",
       "43351       43352                  raspberries\n",
       "44631       44632   sparkling water grapefruit\n",
       "47208       47209         organic hass avocado\n",
       "47625       47626                  large lemon\n",
       "47765       47766              organic avocado\n",
       "49234       49235          organic half & half"
      ]
     },
     "metadata": {},
     "output_type": "display_data"
    }
   ],
   "source": [
    "first_prod = first_products.groupby('product_id')['order_id'].count() # Getting the counts of each product ID from the reordered DataFrame\n",
    "first_prod = first_prod.sort_values(ascending= False) # Sorting product IDs from highest to lowest\n",
    "first_prod = first_prod[:20] # Taking top 20 values\n",
    "first_prod = first_prod.index #Changing from a Series to a list\n",
    "display(products_df.query(\"product_id in @first_prod\")[['product_id', 'product_name']]) # Displaying the top 20 reordered product names and IDs"
   ]
  },
  {
   "cell_type": "markdown",
   "id": "28ce9872",
   "metadata": {},
   "source": []
  },
  {
   "cell_type": "markdown",
   "id": "21eb6292",
   "metadata": {},
   "source": [
    "The Dataframe above contains the product ID and product name of the 20 items that are most frequently added to a cart first."
   ]
  },
  {
   "cell_type": "markdown",
   "id": "b27e301b",
   "metadata": {},
   "source": [
    "<div class=\"alert alert-success\"; style=\"border-left: 7px solid green\">\n",
    "<b>✅ Reviewer's comment, v. 1</b> \n",
    "    \n",
    "This is a correct list, very good."
   ]
  },
  {
   "cell_type": "markdown",
   "id": "4f3c0838",
   "metadata": {},
   "source": [
    "<div class=\"alert alert-warning\"; style=\"border-left: 7px solid gold\">\n",
    "<b>⚠️ Reviewer's comment, v. 1</b> \n",
    "\n",
    "You are missing an overall conclusion.\n",
    "    \n",
    "It is an important part, where you should include the summary of the outcomes of the project."
   ]
  },
  {
   "cell_type": "markdown",
   "id": "a256c965",
   "metadata": {},
   "source": [
    "### Conclusions on analytics"
   ]
  },
  {
   "cell_type": "markdown",
   "id": "4dd75ff4",
   "metadata": {},
   "source": [
    "Upon breaking down and analyzing the data sample, there are a few general conclusions that can be drawn.\n",
    "\n",
    " - Most people shop in the late morning to evenings, and very little between the hours of midnight and 6:00 a.m.\n",
    " - Though the most popular days for shopping are Sunday and Monday, the other five days of the week are not a great deal lower in number of orders per day.\n",
    " - Organics foods seem to be maintaining their popularity as a number of them make the top 20 list for both ordered, and reordered items.\n",
    " \n",
    "Instacart specific findings:\n",
    "\n",
    " - Customer return and/or retention is minimal, being that there is a fast drop off when looking at the number of orders associated with user IDs.\n",
    " - Users of Instacart most frequently order 5 items, with a quick drop off as the number of items increase, indicating that it's used for comvenience in getting a few items rather than larger-scale shopping.\n",
    " - Return users most frequently order on a week to week basis, with seven days being the most popular time since a last order within a month, though there are slight upswings to activity at the consecutive seven-day marks which indicates people regularly shop on the same day.\n",
    " \n",
    "The biggest recommendation for Istacart would to be improving customer/user retention; whether it be through improving ease of use of the service, or incentivises for returning users."
   ]
  },
  {
   "cell_type": "markdown",
   "id": "7570e86c",
   "metadata": {},
   "source": [
    "<div class=\"alert alert-info\"; style=\"border-left: 7px solid blue\">\n",
    "<b>Student's comment, v. 1</b>\n",
    "    <div>A breif conclusion has been added which include findings that I categorized into general information, and that which is more specific to Insacart. I also added the recommendation I would give if I were analyzing this for them. Just like my added intro, it's likely on the rough side. But I will be mindful on improving with each repetition.\n",
    "    \n",
    "<div class=\"alert alert-success\"; style=\"border-left: 7px solid green\">\n",
    "<b>✅ Reviewer's comment, v. 2</b> \n",
    "    \n",
    "Oh, it is absolutely fine. Very nice conclusion reflecting the main findings made during the analysis.</div>"
   ]
  }
 ],
 "metadata": {
  "kernelspec": {
   "display_name": "Python 3 (ipykernel)",
   "language": "python",
   "name": "python3"
  },
  "language_info": {
   "codemirror_mode": {
    "name": "ipython",
    "version": 3
   },
   "file_extension": ".py",
   "mimetype": "text/x-python",
   "name": "python",
   "nbconvert_exporter": "python",
   "pygments_lexer": "ipython3",
   "version": "3.9.5"
  },
  "toc": {
   "base_numbering": 1,
   "nav_menu": {},
   "number_sections": true,
   "sideBar": true,
   "skip_h1_title": true,
   "title_cell": "Table of Contents",
   "title_sidebar": "Contents",
   "toc_cell": false,
   "toc_position": {},
   "toc_section_display": true,
   "toc_window_display": true
  },
  "vscode": {
   "interpreter": {
    "hash": "01a7be9ec63e704a62cefc5fe7a4756944464ee731be31632bdf42a4cb4688cf"
   }
  }
 },
 "nbformat": 4,
 "nbformat_minor": 5
}
